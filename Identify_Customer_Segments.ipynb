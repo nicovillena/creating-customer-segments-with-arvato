{
 "cells": [
  {
   "cell_type": "markdown",
   "metadata": {},
   "source": [
    "# Project: Identify Customer Segments\n",
    "\n",
    "In this project, you will apply unsupervised learning techniques to identify segments of the population that form the core customer base for a mail-order sales company in Germany. These segments can then be used to direct marketing campaigns towards audiences that will have the highest expected rate of returns. The data that you will use has been provided by our partners at Bertelsmann Arvato Analytics, and represents a real-life data science task.\n",
    "\n",
    "This notebook will help you complete this task by providing a framework within which you will perform your analysis steps. In each step of the project, you will see some text describing the subtask that you will perform, followed by one or more code cells for you to complete your work. **Feel free to add additional code and markdown cells as you go along so that you can explore everything in precise chunks.** The code cells provided in the base template will outline only the major tasks, and will usually not be enough to cover all of the minor tasks that comprise it.\n",
    "\n",
    "It should be noted that while there will be precise guidelines on how you should handle certain tasks in the project, there will also be places where an exact specification is not provided. **There will be times in the project where you will need to make and justify your own decisions on how to treat the data.** These are places where there may not be only one way to handle the data. In real-life tasks, there may be many valid ways to approach an analysis task. One of the most important things you can do is clearly document your approach so that other scientists can understand the decisions you've made.\n",
    "\n",
    "At the end of most sections, there will be a Markdown cell labeled **Discussion**. In these cells, you will report your findings for the completed section, as well as document the decisions that you made in your approach to each subtask. **Your project will be evaluated not just on the code used to complete the tasks outlined, but also your communication about your observations and conclusions at each stage.**"
   ]
  },
  {
   "cell_type": "code",
   "execution_count": 1,
   "metadata": {},
   "outputs": [],
   "source": [
    "# import libraries here; add more as necessary\n",
    "import numpy as np\n",
    "import pandas as pd\n",
    "import matplotlib.pyplot as plt\n",
    "import seaborn as sns\n",
    "\n",
    "from sklearn.preprocessing import StandardScaler, Imputer\n",
    "from sklearn.decomposition import PCA\n",
    "from sklearn.cluster import KMeans\n",
    "\n",
    "# magic word for producing visualizations in notebook\n",
    "%matplotlib inline"
   ]
  },
  {
   "cell_type": "markdown",
   "metadata": {},
   "source": [
    "### Step 0: Load the Data\n",
    "\n",
    "There are four files associated with this project (not including this one):\n",
    "\n",
    "- `Udacity_AZDIAS_Subset.csv`: Demographics data for the general population of Germany; 891211 persons (rows) x 85 features (columns).\n",
    "- `Udacity_CUSTOMERS_Subset.csv`: Demographics data for customers of a mail-order company; 191652 persons (rows) x 85 features (columns).\n",
    "- `Data_Dictionary.md`: Detailed information file about the features in the provided datasets.\n",
    "- `AZDIAS_Feature_Summary.csv`: Summary of feature attributes for demographics data; 85 features (rows) x 4 columns\n",
    "\n",
    "Each row of the demographics files represents a single person, but also includes information outside of individuals, including information about their household, building, and neighborhood. You will use this information to cluster the general population into groups with similar demographic properties. Then, you will see how the people in the customers dataset fit into those created clusters. The hope here is that certain clusters are over-represented in the customers data, as compared to the general population; those over-represented clusters will be assumed to be part of the core userbase. This information can then be used for further applications, such as targeting for a marketing campaign.\n",
    "\n",
    "To start off with, load in the demographics data for the general population into a pandas DataFrame, and do the same for the feature attributes summary. Note for all of the `.csv` data files in this project: they're semicolon (`;`) delimited, so you'll need an additional argument in your [`read_csv()`](https://pandas.pydata.org/pandas-docs/stable/generated/pandas.read_csv.html) call to read in the data properly. Also, considering the size of the main dataset, it may take some time for it to load completely.\n",
    "\n",
    "Once the dataset is loaded, it's recommended that you take a little bit of time just browsing the general structure of the dataset and feature summary file. You'll be getting deep into the innards of the cleaning in the first major step of the project, so gaining some general familiarity can help you get your bearings."
   ]
  },
  {
   "cell_type": "code",
   "execution_count": 2,
   "metadata": {},
   "outputs": [],
   "source": [
    "# Load in the general demographics data.\n",
    "azdias = pd.read_csv('Udacity_AZDIAS_Subset.csv',sep=';')\n",
    "\n",
    "# Load in the feature summary file.\n",
    "feat_info = pd.read_csv('AZDIAS_Feature_Summary.csv',sep=';')"
   ]
  },
  {
   "cell_type": "code",
   "execution_count": 3,
   "metadata": {},
   "outputs": [
    {
     "data": {
      "text/html": [
       "<div>\n",
       "<style scoped>\n",
       "    .dataframe tbody tr th:only-of-type {\n",
       "        vertical-align: middle;\n",
       "    }\n",
       "\n",
       "    .dataframe tbody tr th {\n",
       "        vertical-align: top;\n",
       "    }\n",
       "\n",
       "    .dataframe thead th {\n",
       "        text-align: right;\n",
       "    }\n",
       "</style>\n",
       "<table border=\"1\" class=\"dataframe\">\n",
       "  <thead>\n",
       "    <tr style=\"text-align: right;\">\n",
       "      <th></th>\n",
       "      <th>AGER_TYP</th>\n",
       "      <th>ALTERSKATEGORIE_GROB</th>\n",
       "      <th>ANREDE_KZ</th>\n",
       "      <th>CJT_GESAMTTYP</th>\n",
       "      <th>FINANZ_MINIMALIST</th>\n",
       "      <th>FINANZ_SPARER</th>\n",
       "      <th>FINANZ_VORSORGER</th>\n",
       "      <th>FINANZ_ANLEGER</th>\n",
       "      <th>FINANZ_UNAUFFAELLIGER</th>\n",
       "      <th>FINANZ_HAUSBAUER</th>\n",
       "      <th>...</th>\n",
       "      <th>PLZ8_ANTG1</th>\n",
       "      <th>PLZ8_ANTG2</th>\n",
       "      <th>PLZ8_ANTG3</th>\n",
       "      <th>PLZ8_ANTG4</th>\n",
       "      <th>PLZ8_BAUMAX</th>\n",
       "      <th>PLZ8_HHZ</th>\n",
       "      <th>PLZ8_GBZ</th>\n",
       "      <th>ARBEIT</th>\n",
       "      <th>ORTSGR_KLS9</th>\n",
       "      <th>RELAT_AB</th>\n",
       "    </tr>\n",
       "  </thead>\n",
       "  <tbody>\n",
       "    <tr>\n",
       "      <th>0</th>\n",
       "      <td>-1</td>\n",
       "      <td>2</td>\n",
       "      <td>1</td>\n",
       "      <td>2.0</td>\n",
       "      <td>3</td>\n",
       "      <td>4</td>\n",
       "      <td>3</td>\n",
       "      <td>5</td>\n",
       "      <td>5</td>\n",
       "      <td>3</td>\n",
       "      <td>...</td>\n",
       "      <td>NaN</td>\n",
       "      <td>NaN</td>\n",
       "      <td>NaN</td>\n",
       "      <td>NaN</td>\n",
       "      <td>NaN</td>\n",
       "      <td>NaN</td>\n",
       "      <td>NaN</td>\n",
       "      <td>NaN</td>\n",
       "      <td>NaN</td>\n",
       "      <td>NaN</td>\n",
       "    </tr>\n",
       "    <tr>\n",
       "      <th>1</th>\n",
       "      <td>-1</td>\n",
       "      <td>1</td>\n",
       "      <td>2</td>\n",
       "      <td>5.0</td>\n",
       "      <td>1</td>\n",
       "      <td>5</td>\n",
       "      <td>2</td>\n",
       "      <td>5</td>\n",
       "      <td>4</td>\n",
       "      <td>5</td>\n",
       "      <td>...</td>\n",
       "      <td>2.0</td>\n",
       "      <td>3.0</td>\n",
       "      <td>2.0</td>\n",
       "      <td>1.0</td>\n",
       "      <td>1.0</td>\n",
       "      <td>5.0</td>\n",
       "      <td>4.0</td>\n",
       "      <td>3.0</td>\n",
       "      <td>5.0</td>\n",
       "      <td>4.0</td>\n",
       "    </tr>\n",
       "    <tr>\n",
       "      <th>2</th>\n",
       "      <td>-1</td>\n",
       "      <td>3</td>\n",
       "      <td>2</td>\n",
       "      <td>3.0</td>\n",
       "      <td>1</td>\n",
       "      <td>4</td>\n",
       "      <td>1</td>\n",
       "      <td>2</td>\n",
       "      <td>3</td>\n",
       "      <td>5</td>\n",
       "      <td>...</td>\n",
       "      <td>3.0</td>\n",
       "      <td>3.0</td>\n",
       "      <td>1.0</td>\n",
       "      <td>0.0</td>\n",
       "      <td>1.0</td>\n",
       "      <td>4.0</td>\n",
       "      <td>4.0</td>\n",
       "      <td>3.0</td>\n",
       "      <td>5.0</td>\n",
       "      <td>2.0</td>\n",
       "    </tr>\n",
       "    <tr>\n",
       "      <th>3</th>\n",
       "      <td>2</td>\n",
       "      <td>4</td>\n",
       "      <td>2</td>\n",
       "      <td>2.0</td>\n",
       "      <td>4</td>\n",
       "      <td>2</td>\n",
       "      <td>5</td>\n",
       "      <td>2</td>\n",
       "      <td>1</td>\n",
       "      <td>2</td>\n",
       "      <td>...</td>\n",
       "      <td>2.0</td>\n",
       "      <td>2.0</td>\n",
       "      <td>2.0</td>\n",
       "      <td>0.0</td>\n",
       "      <td>1.0</td>\n",
       "      <td>3.0</td>\n",
       "      <td>4.0</td>\n",
       "      <td>2.0</td>\n",
       "      <td>3.0</td>\n",
       "      <td>3.0</td>\n",
       "    </tr>\n",
       "    <tr>\n",
       "      <th>4</th>\n",
       "      <td>-1</td>\n",
       "      <td>3</td>\n",
       "      <td>1</td>\n",
       "      <td>5.0</td>\n",
       "      <td>4</td>\n",
       "      <td>3</td>\n",
       "      <td>4</td>\n",
       "      <td>1</td>\n",
       "      <td>3</td>\n",
       "      <td>2</td>\n",
       "      <td>...</td>\n",
       "      <td>2.0</td>\n",
       "      <td>4.0</td>\n",
       "      <td>2.0</td>\n",
       "      <td>1.0</td>\n",
       "      <td>2.0</td>\n",
       "      <td>3.0</td>\n",
       "      <td>3.0</td>\n",
       "      <td>4.0</td>\n",
       "      <td>6.0</td>\n",
       "      <td>5.0</td>\n",
       "    </tr>\n",
       "  </tbody>\n",
       "</table>\n",
       "<p>5 rows × 85 columns</p>\n",
       "</div>"
      ],
      "text/plain": [
       "   AGER_TYP  ALTERSKATEGORIE_GROB  ANREDE_KZ  CJT_GESAMTTYP  \\\n",
       "0        -1                     2          1            2.0   \n",
       "1        -1                     1          2            5.0   \n",
       "2        -1                     3          2            3.0   \n",
       "3         2                     4          2            2.0   \n",
       "4        -1                     3          1            5.0   \n",
       "\n",
       "   FINANZ_MINIMALIST  FINANZ_SPARER  FINANZ_VORSORGER  FINANZ_ANLEGER  \\\n",
       "0                  3              4                 3               5   \n",
       "1                  1              5                 2               5   \n",
       "2                  1              4                 1               2   \n",
       "3                  4              2                 5               2   \n",
       "4                  4              3                 4               1   \n",
       "\n",
       "   FINANZ_UNAUFFAELLIGER  FINANZ_HAUSBAUER    ...     PLZ8_ANTG1  PLZ8_ANTG2  \\\n",
       "0                      5                 3    ...            NaN         NaN   \n",
       "1                      4                 5    ...            2.0         3.0   \n",
       "2                      3                 5    ...            3.0         3.0   \n",
       "3                      1                 2    ...            2.0         2.0   \n",
       "4                      3                 2    ...            2.0         4.0   \n",
       "\n",
       "   PLZ8_ANTG3  PLZ8_ANTG4  PLZ8_BAUMAX  PLZ8_HHZ  PLZ8_GBZ  ARBEIT  \\\n",
       "0         NaN         NaN          NaN       NaN       NaN     NaN   \n",
       "1         2.0         1.0          1.0       5.0       4.0     3.0   \n",
       "2         1.0         0.0          1.0       4.0       4.0     3.0   \n",
       "3         2.0         0.0          1.0       3.0       4.0     2.0   \n",
       "4         2.0         1.0          2.0       3.0       3.0     4.0   \n",
       "\n",
       "   ORTSGR_KLS9  RELAT_AB  \n",
       "0          NaN       NaN  \n",
       "1          5.0       4.0  \n",
       "2          5.0       2.0  \n",
       "3          3.0       3.0  \n",
       "4          6.0       5.0  \n",
       "\n",
       "[5 rows x 85 columns]"
      ]
     },
     "execution_count": 3,
     "metadata": {},
     "output_type": "execute_result"
    }
   ],
   "source": [
    "# Check the structure of the data after it's loaded (e.g. print the number of\n",
    "# rows and columns, print the first few rows).\n",
    "azdias.head()"
   ]
  },
  {
   "cell_type": "code",
   "execution_count": 4,
   "metadata": {},
   "outputs": [
    {
     "data": {
      "text/plain": [
       "(891221, 85)"
      ]
     },
     "execution_count": 4,
     "metadata": {},
     "output_type": "execute_result"
    }
   ],
   "source": [
    "azdias.shape"
   ]
  },
  {
   "cell_type": "code",
   "execution_count": 5,
   "metadata": {},
   "outputs": [
    {
     "data": {
      "text/html": [
       "<div>\n",
       "<style scoped>\n",
       "    .dataframe tbody tr th:only-of-type {\n",
       "        vertical-align: middle;\n",
       "    }\n",
       "\n",
       "    .dataframe tbody tr th {\n",
       "        vertical-align: top;\n",
       "    }\n",
       "\n",
       "    .dataframe thead th {\n",
       "        text-align: right;\n",
       "    }\n",
       "</style>\n",
       "<table border=\"1\" class=\"dataframe\">\n",
       "  <thead>\n",
       "    <tr style=\"text-align: right;\">\n",
       "      <th></th>\n",
       "      <th>attribute</th>\n",
       "      <th>information_level</th>\n",
       "      <th>type</th>\n",
       "      <th>missing_or_unknown</th>\n",
       "    </tr>\n",
       "  </thead>\n",
       "  <tbody>\n",
       "    <tr>\n",
       "      <th>0</th>\n",
       "      <td>AGER_TYP</td>\n",
       "      <td>person</td>\n",
       "      <td>categorical</td>\n",
       "      <td>[-1,0]</td>\n",
       "    </tr>\n",
       "    <tr>\n",
       "      <th>1</th>\n",
       "      <td>ALTERSKATEGORIE_GROB</td>\n",
       "      <td>person</td>\n",
       "      <td>ordinal</td>\n",
       "      <td>[-1,0,9]</td>\n",
       "    </tr>\n",
       "    <tr>\n",
       "      <th>2</th>\n",
       "      <td>ANREDE_KZ</td>\n",
       "      <td>person</td>\n",
       "      <td>categorical</td>\n",
       "      <td>[-1,0]</td>\n",
       "    </tr>\n",
       "    <tr>\n",
       "      <th>3</th>\n",
       "      <td>CJT_GESAMTTYP</td>\n",
       "      <td>person</td>\n",
       "      <td>categorical</td>\n",
       "      <td>[0]</td>\n",
       "    </tr>\n",
       "    <tr>\n",
       "      <th>4</th>\n",
       "      <td>FINANZ_MINIMALIST</td>\n",
       "      <td>person</td>\n",
       "      <td>ordinal</td>\n",
       "      <td>[-1]</td>\n",
       "    </tr>\n",
       "  </tbody>\n",
       "</table>\n",
       "</div>"
      ],
      "text/plain": [
       "              attribute information_level         type missing_or_unknown\n",
       "0              AGER_TYP            person  categorical             [-1,0]\n",
       "1  ALTERSKATEGORIE_GROB            person      ordinal           [-1,0,9]\n",
       "2             ANREDE_KZ            person  categorical             [-1,0]\n",
       "3         CJT_GESAMTTYP            person  categorical                [0]\n",
       "4     FINANZ_MINIMALIST            person      ordinal               [-1]"
      ]
     },
     "execution_count": 5,
     "metadata": {},
     "output_type": "execute_result"
    }
   ],
   "source": [
    "feat_info.head()"
   ]
  },
  {
   "cell_type": "code",
   "execution_count": 6,
   "metadata": {},
   "outputs": [
    {
     "data": {
      "text/plain": [
       "(85, 4)"
      ]
     },
     "execution_count": 6,
     "metadata": {},
     "output_type": "execute_result"
    }
   ],
   "source": [
    "feat_info.shape"
   ]
  },
  {
   "cell_type": "markdown",
   "metadata": {},
   "source": [
    "> **Tip**: Add additional cells to keep everything in reasonably-sized chunks! Keyboard shortcut `esc --> a` (press escape to enter command mode, then press the 'A' key) adds a new cell before the active cell, and `esc --> b` adds a new cell after the active cell. If you need to convert an active cell to a markdown cell, use `esc --> m` and to convert to a code cell, use `esc --> y`. \n",
    "\n",
    "## Step 1: Preprocessing\n",
    "\n",
    "### Step 1.1: Assess Missing Data\n",
    "\n",
    "The feature summary file contains a summary of properties for each demographics data column. You will use this file to help you make cleaning decisions during this stage of the project. First of all, you should assess the demographics data in terms of missing data. Pay attention to the following points as you perform your analysis, and take notes on what you observe. Make sure that you fill in the **Discussion** cell with your findings and decisions at the end of each step that has one!\n",
    "\n",
    "#### Step 1.1.1: Convert Missing Value Codes to NaNs\n",
    "The fourth column of the feature attributes summary (loaded in above as `feat_info`) documents the codes from the data dictionary that indicate missing or unknown data. While the file encodes this as a list (e.g. `[-1,0]`), this will get read in as a string object. You'll need to do a little bit of parsing to make use of it to identify and clean the data. Convert data that matches a 'missing' or 'unknown' value code into a numpy NaN value. You might want to see how much data takes on a 'missing' or 'unknown' code, and how much data is naturally missing, as a point of interest.\n",
    "\n",
    "**As one more reminder, you are encouraged to add additional cells to break up your analysis into manageable chunks.**"
   ]
  },
  {
   "cell_type": "code",
   "execution_count": 7,
   "metadata": {},
   "outputs": [
    {
     "data": {
      "text/plain": [
       "4896838"
      ]
     },
     "execution_count": 7,
     "metadata": {},
     "output_type": "execute_result"
    }
   ],
   "source": [
    "# Number of naturally missing values\n",
    "azdias.isnull().sum().sum()"
   ]
  },
  {
   "cell_type": "code",
   "execution_count": 8,
   "metadata": {},
   "outputs": [],
   "source": [
    "for feat in range(len(feat_info)):\n",
    "    miss_vals = feat_info.iloc[feat][3]\n",
    "    miss_vals = miss_vals.strip('[').strip(']').split(sep=',')\n",
    "    miss_vals = [int(val) if (val!='' and val!='X' and val!='XX') else val for val in miss_vals]\n",
    "    if miss_vals != ['']:\n",
    "        azdias = azdias.replace({feat_info.iloc[feat][0]: miss_vals}, np.nan)"
   ]
  },
  {
   "cell_type": "code",
   "execution_count": 9,
   "metadata": {},
   "outputs": [
    {
     "data": {
      "text/plain": [
       "8373929"
      ]
     },
     "execution_count": 9,
     "metadata": {},
     "output_type": "execute_result"
    }
   ],
   "source": [
    "# number of missing values after conversion\n",
    "azdias.isnull().sum().sum()"
   ]
  },
  {
   "cell_type": "markdown",
   "metadata": {},
   "source": [
    "#### Step 1.1.2: Assess Missing Data in Each Column\n",
    "\n",
    "How much missing data is present in each column? There are a few columns that are outliers in terms of the proportion of values that are missing. You will want to use matplotlib's [`hist()`](https://matplotlib.org/api/_as_gen/matplotlib.pyplot.hist.html) function to visualize the distribution of missing value counts to find these columns. Identify and document these columns. While some of these columns might have justifications for keeping or re-encoding the data, for this project you should just remove them from the dataframe. (Feel free to make remarks about these outlier columns in the discussion, however!)\n",
    "\n",
    "For the remaining features, are there any patterns in which columns have, or share, missing data?"
   ]
  },
  {
   "cell_type": "code",
   "execution_count": 10,
   "metadata": {},
   "outputs": [
    {
     "data": {
      "text/html": [
       "<div>\n",
       "<style scoped>\n",
       "    .dataframe tbody tr th:only-of-type {\n",
       "        vertical-align: middle;\n",
       "    }\n",
       "\n",
       "    .dataframe tbody tr th {\n",
       "        vertical-align: top;\n",
       "    }\n",
       "\n",
       "    .dataframe thead th {\n",
       "        text-align: right;\n",
       "    }\n",
       "</style>\n",
       "<table border=\"1\" class=\"dataframe\">\n",
       "  <thead>\n",
       "    <tr style=\"text-align: right;\">\n",
       "      <th></th>\n",
       "      <th>null_count</th>\n",
       "      <th>null_pct</th>\n",
       "    </tr>\n",
       "  </thead>\n",
       "  <tbody>\n",
       "    <tr>\n",
       "      <th>TITEL_KZ</th>\n",
       "      <td>889061</td>\n",
       "      <td>99.76</td>\n",
       "    </tr>\n",
       "    <tr>\n",
       "      <th>AGER_TYP</th>\n",
       "      <td>685843</td>\n",
       "      <td>76.96</td>\n",
       "    </tr>\n",
       "    <tr>\n",
       "      <th>KK_KUNDENTYP</th>\n",
       "      <td>584612</td>\n",
       "      <td>65.60</td>\n",
       "    </tr>\n",
       "    <tr>\n",
       "      <th>KBA05_BAUMAX</th>\n",
       "      <td>476524</td>\n",
       "      <td>53.47</td>\n",
       "    </tr>\n",
       "    <tr>\n",
       "      <th>GEBURTSJAHR</th>\n",
       "      <td>392318</td>\n",
       "      <td>44.02</td>\n",
       "    </tr>\n",
       "    <tr>\n",
       "      <th>ALTER_HH</th>\n",
       "      <td>310267</td>\n",
       "      <td>34.81</td>\n",
       "    </tr>\n",
       "    <tr>\n",
       "      <th>KKK</th>\n",
       "      <td>158064</td>\n",
       "      <td>17.74</td>\n",
       "    </tr>\n",
       "    <tr>\n",
       "      <th>REGIOTYP</th>\n",
       "      <td>158064</td>\n",
       "      <td>17.74</td>\n",
       "    </tr>\n",
       "    <tr>\n",
       "      <th>W_KEIT_KIND_HH</th>\n",
       "      <td>147988</td>\n",
       "      <td>16.61</td>\n",
       "    </tr>\n",
       "    <tr>\n",
       "      <th>KBA05_ANTG3</th>\n",
       "      <td>133324</td>\n",
       "      <td>14.96</td>\n",
       "    </tr>\n",
       "    <tr>\n",
       "      <th>KBA05_ANTG1</th>\n",
       "      <td>133324</td>\n",
       "      <td>14.96</td>\n",
       "    </tr>\n",
       "    <tr>\n",
       "      <th>KBA05_ANTG2</th>\n",
       "      <td>133324</td>\n",
       "      <td>14.96</td>\n",
       "    </tr>\n",
       "    <tr>\n",
       "      <th>KBA05_GBZ</th>\n",
       "      <td>133324</td>\n",
       "      <td>14.96</td>\n",
       "    </tr>\n",
       "    <tr>\n",
       "      <th>KBA05_ANTG4</th>\n",
       "      <td>133324</td>\n",
       "      <td>14.96</td>\n",
       "    </tr>\n",
       "    <tr>\n",
       "      <th>MOBI_REGIO</th>\n",
       "      <td>133324</td>\n",
       "      <td>14.96</td>\n",
       "    </tr>\n",
       "    <tr>\n",
       "      <th>PLZ8_ANTG2</th>\n",
       "      <td>116515</td>\n",
       "      <td>13.07</td>\n",
       "    </tr>\n",
       "    <tr>\n",
       "      <th>PLZ8_ANTG1</th>\n",
       "      <td>116515</td>\n",
       "      <td>13.07</td>\n",
       "    </tr>\n",
       "    <tr>\n",
       "      <th>PLZ8_ANTG3</th>\n",
       "      <td>116515</td>\n",
       "      <td>13.07</td>\n",
       "    </tr>\n",
       "    <tr>\n",
       "      <th>PLZ8_ANTG4</th>\n",
       "      <td>116515</td>\n",
       "      <td>13.07</td>\n",
       "    </tr>\n",
       "    <tr>\n",
       "      <th>PLZ8_BAUMAX</th>\n",
       "      <td>116515</td>\n",
       "      <td>13.07</td>\n",
       "    </tr>\n",
       "    <tr>\n",
       "      <th>PLZ8_HHZ</th>\n",
       "      <td>116515</td>\n",
       "      <td>13.07</td>\n",
       "    </tr>\n",
       "    <tr>\n",
       "      <th>PLZ8_GBZ</th>\n",
       "      <td>116515</td>\n",
       "      <td>13.07</td>\n",
       "    </tr>\n",
       "    <tr>\n",
       "      <th>VERS_TYP</th>\n",
       "      <td>111196</td>\n",
       "      <td>12.48</td>\n",
       "    </tr>\n",
       "    <tr>\n",
       "      <th>SHOPPER_TYP</th>\n",
       "      <td>111196</td>\n",
       "      <td>12.48</td>\n",
       "    </tr>\n",
       "    <tr>\n",
       "      <th>HEALTH_TYP</th>\n",
       "      <td>111196</td>\n",
       "      <td>12.48</td>\n",
       "    </tr>\n",
       "    <tr>\n",
       "      <th>NATIONALITAET_KZ</th>\n",
       "      <td>108315</td>\n",
       "      <td>12.15</td>\n",
       "    </tr>\n",
       "    <tr>\n",
       "      <th>PRAEGENDE_JUGENDJAHRE</th>\n",
       "      <td>108164</td>\n",
       "      <td>12.14</td>\n",
       "    </tr>\n",
       "    <tr>\n",
       "      <th>KBA13_ANZAHL_PKW</th>\n",
       "      <td>105800</td>\n",
       "      <td>11.87</td>\n",
       "    </tr>\n",
       "    <tr>\n",
       "      <th>ANZ_HAUSHALTE_AKTIV</th>\n",
       "      <td>99611</td>\n",
       "      <td>11.18</td>\n",
       "    </tr>\n",
       "    <tr>\n",
       "      <th>CAMEO_INTL_2015</th>\n",
       "      <td>99352</td>\n",
       "      <td>11.15</td>\n",
       "    </tr>\n",
       "    <tr>\n",
       "      <th>...</th>\n",
       "      <td>...</td>\n",
       "      <td>...</td>\n",
       "    </tr>\n",
       "    <tr>\n",
       "      <th>CAMEO_DEU_2015</th>\n",
       "      <td>99352</td>\n",
       "      <td>11.15</td>\n",
       "    </tr>\n",
       "    <tr>\n",
       "      <th>LP_LEBENSPHASE_FEIN</th>\n",
       "      <td>97632</td>\n",
       "      <td>10.95</td>\n",
       "    </tr>\n",
       "    <tr>\n",
       "      <th>ARBEIT</th>\n",
       "      <td>97375</td>\n",
       "      <td>10.93</td>\n",
       "    </tr>\n",
       "    <tr>\n",
       "      <th>RELAT_AB</th>\n",
       "      <td>97375</td>\n",
       "      <td>10.93</td>\n",
       "    </tr>\n",
       "    <tr>\n",
       "      <th>ORTSGR_KLS9</th>\n",
       "      <td>97274</td>\n",
       "      <td>10.91</td>\n",
       "    </tr>\n",
       "    <tr>\n",
       "      <th>ANZ_HH_TITEL</th>\n",
       "      <td>97008</td>\n",
       "      <td>10.88</td>\n",
       "    </tr>\n",
       "    <tr>\n",
       "      <th>LP_LEBENSPHASE_GROB</th>\n",
       "      <td>94572</td>\n",
       "      <td>10.61</td>\n",
       "    </tr>\n",
       "    <tr>\n",
       "      <th>INNENSTADT</th>\n",
       "      <td>93740</td>\n",
       "      <td>10.52</td>\n",
       "    </tr>\n",
       "    <tr>\n",
       "      <th>BALLRAUM</th>\n",
       "      <td>93740</td>\n",
       "      <td>10.52</td>\n",
       "    </tr>\n",
       "    <tr>\n",
       "      <th>EWDICHTE</th>\n",
       "      <td>93740</td>\n",
       "      <td>10.52</td>\n",
       "    </tr>\n",
       "    <tr>\n",
       "      <th>WOHNLAGE</th>\n",
       "      <td>93148</td>\n",
       "      <td>10.45</td>\n",
       "    </tr>\n",
       "    <tr>\n",
       "      <th>OST_WEST_KZ</th>\n",
       "      <td>93148</td>\n",
       "      <td>10.45</td>\n",
       "    </tr>\n",
       "    <tr>\n",
       "      <th>GEBAEUDETYP_RASTER</th>\n",
       "      <td>93155</td>\n",
       "      <td>10.45</td>\n",
       "    </tr>\n",
       "    <tr>\n",
       "      <th>MIN_GEBAEUDEJAHR</th>\n",
       "      <td>93148</td>\n",
       "      <td>10.45</td>\n",
       "    </tr>\n",
       "    <tr>\n",
       "      <th>GEBAEUDETYP</th>\n",
       "      <td>93148</td>\n",
       "      <td>10.45</td>\n",
       "    </tr>\n",
       "    <tr>\n",
       "      <th>LP_FAMILIE_GROB</th>\n",
       "      <td>77792</td>\n",
       "      <td>8.73</td>\n",
       "    </tr>\n",
       "    <tr>\n",
       "      <th>LP_FAMILIE_FEIN</th>\n",
       "      <td>77792</td>\n",
       "      <td>8.73</td>\n",
       "    </tr>\n",
       "    <tr>\n",
       "      <th>KONSUMNAEHE</th>\n",
       "      <td>73969</td>\n",
       "      <td>8.30</td>\n",
       "    </tr>\n",
       "    <tr>\n",
       "      <th>WOHNDAUER_2008</th>\n",
       "      <td>73499</td>\n",
       "      <td>8.25</td>\n",
       "    </tr>\n",
       "    <tr>\n",
       "      <th>ANZ_TITEL</th>\n",
       "      <td>73499</td>\n",
       "      <td>8.25</td>\n",
       "    </tr>\n",
       "    <tr>\n",
       "      <th>ANZ_PERSONEN</th>\n",
       "      <td>73499</td>\n",
       "      <td>8.25</td>\n",
       "    </tr>\n",
       "    <tr>\n",
       "      <th>SOHO_KZ</th>\n",
       "      <td>73499</td>\n",
       "      <td>8.25</td>\n",
       "    </tr>\n",
       "    <tr>\n",
       "      <th>HH_EINKOMMEN_SCORE</th>\n",
       "      <td>18348</td>\n",
       "      <td>2.06</td>\n",
       "    </tr>\n",
       "    <tr>\n",
       "      <th>RETOURTYP_BK_S</th>\n",
       "      <td>4854</td>\n",
       "      <td>0.54</td>\n",
       "    </tr>\n",
       "    <tr>\n",
       "      <th>LP_STATUS_GROB</th>\n",
       "      <td>4854</td>\n",
       "      <td>0.54</td>\n",
       "    </tr>\n",
       "    <tr>\n",
       "      <th>LP_STATUS_FEIN</th>\n",
       "      <td>4854</td>\n",
       "      <td>0.54</td>\n",
       "    </tr>\n",
       "    <tr>\n",
       "      <th>GFK_URLAUBERTYP</th>\n",
       "      <td>4854</td>\n",
       "      <td>0.54</td>\n",
       "    </tr>\n",
       "    <tr>\n",
       "      <th>CJT_GESAMTTYP</th>\n",
       "      <td>4854</td>\n",
       "      <td>0.54</td>\n",
       "    </tr>\n",
       "    <tr>\n",
       "      <th>ONLINE_AFFINITAET</th>\n",
       "      <td>4854</td>\n",
       "      <td>0.54</td>\n",
       "    </tr>\n",
       "    <tr>\n",
       "      <th>ALTERSKATEGORIE_GROB</th>\n",
       "      <td>2881</td>\n",
       "      <td>0.32</td>\n",
       "    </tr>\n",
       "  </tbody>\n",
       "</table>\n",
       "<p>61 rows × 2 columns</p>\n",
       "</div>"
      ],
      "text/plain": [
       "                       null_count  null_pct\n",
       "TITEL_KZ                   889061     99.76\n",
       "AGER_TYP                   685843     76.96\n",
       "KK_KUNDENTYP               584612     65.60\n",
       "KBA05_BAUMAX               476524     53.47\n",
       "GEBURTSJAHR                392318     44.02\n",
       "ALTER_HH                   310267     34.81\n",
       "KKK                        158064     17.74\n",
       "REGIOTYP                   158064     17.74\n",
       "W_KEIT_KIND_HH             147988     16.61\n",
       "KBA05_ANTG3                133324     14.96\n",
       "KBA05_ANTG1                133324     14.96\n",
       "KBA05_ANTG2                133324     14.96\n",
       "KBA05_GBZ                  133324     14.96\n",
       "KBA05_ANTG4                133324     14.96\n",
       "MOBI_REGIO                 133324     14.96\n",
       "PLZ8_ANTG2                 116515     13.07\n",
       "PLZ8_ANTG1                 116515     13.07\n",
       "PLZ8_ANTG3                 116515     13.07\n",
       "PLZ8_ANTG4                 116515     13.07\n",
       "PLZ8_BAUMAX                116515     13.07\n",
       "PLZ8_HHZ                   116515     13.07\n",
       "PLZ8_GBZ                   116515     13.07\n",
       "VERS_TYP                   111196     12.48\n",
       "SHOPPER_TYP                111196     12.48\n",
       "HEALTH_TYP                 111196     12.48\n",
       "NATIONALITAET_KZ           108315     12.15\n",
       "PRAEGENDE_JUGENDJAHRE      108164     12.14\n",
       "KBA13_ANZAHL_PKW           105800     11.87\n",
       "ANZ_HAUSHALTE_AKTIV         99611     11.18\n",
       "CAMEO_INTL_2015             99352     11.15\n",
       "...                           ...       ...\n",
       "CAMEO_DEU_2015              99352     11.15\n",
       "LP_LEBENSPHASE_FEIN         97632     10.95\n",
       "ARBEIT                      97375     10.93\n",
       "RELAT_AB                    97375     10.93\n",
       "ORTSGR_KLS9                 97274     10.91\n",
       "ANZ_HH_TITEL                97008     10.88\n",
       "LP_LEBENSPHASE_GROB         94572     10.61\n",
       "INNENSTADT                  93740     10.52\n",
       "BALLRAUM                    93740     10.52\n",
       "EWDICHTE                    93740     10.52\n",
       "WOHNLAGE                    93148     10.45\n",
       "OST_WEST_KZ                 93148     10.45\n",
       "GEBAEUDETYP_RASTER          93155     10.45\n",
       "MIN_GEBAEUDEJAHR            93148     10.45\n",
       "GEBAEUDETYP                 93148     10.45\n",
       "LP_FAMILIE_GROB             77792      8.73\n",
       "LP_FAMILIE_FEIN             77792      8.73\n",
       "KONSUMNAEHE                 73969      8.30\n",
       "WOHNDAUER_2008              73499      8.25\n",
       "ANZ_TITEL                   73499      8.25\n",
       "ANZ_PERSONEN                73499      8.25\n",
       "SOHO_KZ                     73499      8.25\n",
       "HH_EINKOMMEN_SCORE          18348      2.06\n",
       "RETOURTYP_BK_S               4854      0.54\n",
       "LP_STATUS_GROB               4854      0.54\n",
       "LP_STATUS_FEIN               4854      0.54\n",
       "GFK_URLAUBERTYP              4854      0.54\n",
       "CJT_GESAMTTYP                4854      0.54\n",
       "ONLINE_AFFINITAET            4854      0.54\n",
       "ALTERSKATEGORIE_GROB         2881      0.32\n",
       "\n",
       "[61 rows x 2 columns]"
      ]
     },
     "execution_count": 10,
     "metadata": {},
     "output_type": "execute_result"
    }
   ],
   "source": [
    "# Assessment of how much missing data there is in each column, count and percentage.\n",
    "\n",
    "null_data = azdias.isnull().sum()[azdias.isnull().sum() != 0]\n",
    "data_dict = {'null_count': null_data.values, 'null_pct': np.round(null_data.values/len(azdias)*100,2)}\n",
    "azdias_null = pd.DataFrame(data = data_dict, index = null_data.index)\n",
    "azdias_null.sort_values(by='null_pct', ascending=False, inplace=True)\n",
    "azdias_null"
   ]
  },
  {
   "cell_type": "code",
   "execution_count": 11,
   "metadata": {},
   "outputs": [
    {
     "data": {
      "image/png": "[encoded data removed]",
      "text/plain": [
       "<matplotlib.figure.Figure at 0x7fa940105d68>"
      ]
     },
     "metadata": {
      "needs_background": "light"
     },
     "output_type": "display_data"
    }
   ],
   "source": [
    "# Assesment of percentage of missing values by number of columns.\n",
    "pct_miss = (azdias.isnull().sum()/len(azdias))*100\n",
    "\n",
    "plt.hist(pct_miss, bins=25)\n",
    "plt.xlabel('Missing Values (Percent)')\n",
    "plt.ylabel('Columns (Count)')\n",
    "plt.show()"
   ]
  },
  {
   "cell_type": "code",
   "execution_count": 12,
   "metadata": {},
   "outputs": [
    {
     "name": "stdout",
     "output_type": "stream",
     "text": [
      "Outlier columns with more than 20% missing data:['AGER_TYP', 'GEBURTSJAHR', 'TITEL_KZ', 'ALTER_HH', 'KK_KUNDENTYP', 'KBA05_BAUMAX']\n"
     ]
    }
   ],
   "source": [
    "# Remove the outlier columns from the dataset. (You'll perform other data\n",
    "# engineering tasks such as re-encoding and imputation later.)\n",
    "\n",
    "# Outlier columns with more than 20% of missing data\n",
    "drop_out = pct_miss[pct_miss>20].index.tolist()\n",
    "print('Outlier columns with more than 20% missing data:{}'.format(drop_out))"
   ]
  },
  {
   "cell_type": "code",
   "execution_count": 13,
   "metadata": {},
   "outputs": [],
   "source": [
    "# Dropping outlier columns\n",
    "azdias = azdias.drop(drop_out, axis=1)"
   ]
  },
  {
   "cell_type": "code",
   "execution_count": 14,
   "metadata": {},
   "outputs": [
    {
     "data": {
      "text/plain": [
       "(891221, 79)"
      ]
     },
     "execution_count": 14,
     "metadata": {},
     "output_type": "execute_result"
    }
   ],
   "source": [
    "azdias.shape"
   ]
  },
  {
   "cell_type": "markdown",
   "metadata": {},
   "source": [
    "#### Discussion 1.1.2: Assess Missing Data in Each Column\n",
    "\n",
    "Most columns (61) have a number of missing values, from 0.32% to 99,76% of their corresponding total of values. As it is illustrated in the histogram, most columns in the dataset have less than 20% of missing values so we consider columns with more than 20% of missing values (6) as outliers and are therefore removed from the dataset. As a result the total number of columns is reduced from 85 to 79.\n",
    "\n",
    "The labels of the dropped columns are: 'AGER_TYP', 'GEBURTSJAHR', 'TITEL_KZ', 'ALTER_HH', 'KK_KUNDENTYP' and 'KBA05_BAUMAX'."
   ]
  },
  {
   "cell_type": "markdown",
   "metadata": {},
   "source": [
    "#### Step 1.1.3: Assess Missing Data in Each Row\n",
    "\n",
    "Now, you'll perform a similar assessment for the rows of the dataset. How much data is missing in each row? As with the columns, you should see some groups of points that have a very different numbers of missing values. Divide the data into two subsets: one for data points that are above some threshold for missing values, and a second subset for points below that threshold.\n",
    "\n",
    "In order to know what to do with the outlier rows, we should see if the distribution of data values on columns that are not missing data (or are missing very little data) are similar or different between the two groups. Select at least five of these columns and compare the distribution of values.\n",
    "- You can use seaborn's [`countplot()`](https://seaborn.pydata.org/generated/seaborn.countplot.html) function to create a bar chart of code frequencies and matplotlib's [`subplot()`](https://matplotlib.org/api/_as_gen/matplotlib.pyplot.subplot.html) function to put bar charts for the two subplots side by side.\n",
    "- To reduce repeated code, you might want to write a function that can perform this comparison, taking as one of its arguments a column to be compared.\n",
    "\n",
    "Depending on what you observe in your comparison, this will have implications on how you approach your conclusions later in the analysis. If the distributions of non-missing features look similar between the data with many missing values and the data with few or no missing values, then we could argue that simply dropping those points from the analysis won't present a major issue. On the other hand, if the data with many missing values looks very different from the data with few or no missing values, then we should make a note on those data as special. We'll revisit these data later on. **Either way, you should continue your analysis for now using just the subset of the data with few or no missing values.**"
   ]
  },
  {
   "cell_type": "code",
   "execution_count": 15,
   "metadata": {},
   "outputs": [
    {
     "data": {
      "image/png": "[encoded data removed]",
      "text/plain": [
       "<matplotlib.figure.Figure at 0x7fa94a8f3a20>"
      ]
     },
     "metadata": {
      "needs_background": "light"
     },
     "output_type": "display_data"
    }
   ],
   "source": [
    "# How much data is missing in each row of the dataset?\n",
    "row_miss = azdias.isnull().sum(axis=1)\n",
    "plt.hist(row_miss, bins=25)\n",
    "plt.ylabel('Rows (Count)')\n",
    "plt.xlabel('Missing Values (Count)')\n",
    "plt.show()"
   ]
  },
  {
   "cell_type": "code",
   "execution_count": 16,
   "metadata": {},
   "outputs": [],
   "source": [
    "# Write code to divide the data into two subsets based on the number of missing\n",
    "# values in each row.\n",
    "rows_few = azdias[azdias.isnull().sum(axis=1) <= 20]\n",
    "rows_many = azdias[azdias.isnull().sum(axis=1) > 20]"
   ]
  },
  {
   "cell_type": "code",
   "execution_count": 17,
   "metadata": {},
   "outputs": [],
   "source": [
    "# Compare the distribution of values for at least five columns where there are\n",
    "# no or few missing values, between the two subsets.\n",
    "col_zeromiss = pct_miss[pct_miss == 0].index.tolist()\n",
    "col_compare = col_zeromiss[:6]"
   ]
  },
  {
   "cell_type": "code",
   "execution_count": 18,
   "metadata": {},
   "outputs": [
    {
     "data": {
      "image/png": "[encoded data removed]",
      "text/plain": [
       "<matplotlib.figure.Figure at 0x7fa94a7c3a90>"
      ]
     },
     "metadata": {
      "needs_background": "light"
     },
     "output_type": "display_data"
    }
   ],
   "source": [
    "figure, axs = plt.subplots(nrows=len(col_compare), ncols=2, figsize = (18,25))\n",
    "figure.subplots_adjust(hspace = .5, wspace=.2)\n",
    "for i in range(len(col_compare)):\n",
    "    sns.countplot(rows_few[col_compare[i]], ax=axs[i][0])\n",
    "    axs[i][0].set_title('Few or no missing values')\n",
    "    sns.countplot(rows_many[col_compare[i]], ax=axs[i][1])\n",
    "    axs[i][1].set_title('Many missing values')"
   ]
  },
  {
   "cell_type": "markdown",
   "metadata": {},
   "source": [
    "#### Discussion 1.1.3: Assess Missing Data in Each Row\n",
    "\n",
    "In both datasets the gender column was similarly distributed, with populations being mostly female. The rest of the columns representing financial features had distributions that are greatly different between the datasets. As a result dropping data with many missing values would introduce bias into the analysis."
   ]
  },
  {
   "cell_type": "markdown",
   "metadata": {},
   "source": [
    "### Step 1.2: Select and Re-Encode Features\n",
    "\n",
    "Checking for missing data isn't the only way in which you can prepare a dataset for analysis. Since the unsupervised learning techniques to be used will only work on data that is encoded numerically, you need to make a few encoding changes or additional assumptions to be able to make progress. In addition, while almost all of the values in the dataset are encoded using numbers, not all of them represent numeric values. Check the third column of the feature summary (`feat_info`) for a summary of types of measurement.\n",
    "- For numeric and interval data, these features can be kept without changes.\n",
    "- Most of the variables in the dataset are ordinal in nature. While ordinal values may technically be non-linear in spacing, make the simplifying assumption that the ordinal variables can be treated as being interval in nature (that is, kept without any changes).\n",
    "- Special handling may be necessary for the remaining two variable types: categorical, and 'mixed'.\n",
    "\n",
    "In the first two parts of this sub-step, you will perform an investigation of the categorical and mixed-type features and make a decision on each of them, whether you will keep, drop, or re-encode each. Then, in the last part, you will create a new data frame with only the selected and engineered columns.\n",
    "\n",
    "Data wrangling is often the trickiest part of the data analysis process, and there's a lot of it to be done here. But stick with it: once you're done with this step, you'll be ready to get to the machine learning parts of the project!"
   ]
  },
  {
   "cell_type": "code",
   "execution_count": 19,
   "metadata": {},
   "outputs": [
    {
     "name": "stdout",
     "output_type": "stream",
     "text": [
      "49 ordinal\n",
      "18 categorical\n",
      "6 numeric\n",
      "6 mixed\n"
     ]
    }
   ],
   "source": [
    "# How many features are there of each data type?\n",
    "features = list(rows_few.columns)\n",
    "feat_info_cl = feat_info[feat_info['attribute'].isin(features)]\n",
    "tp_count = feat_info_cl['type'].value_counts()\n",
    "for i in range(len(tp_count)):\n",
    "    print('{} {}'.format(tp_count[i], tp_count.index[i]))"
   ]
  },
  {
   "cell_type": "markdown",
   "metadata": {},
   "source": [
    "#### Step 1.2.1: Re-Encode Categorical Features\n",
    "\n",
    "For categorical data, you would ordinarily need to encode the levels as dummy variables. Depending on the number of categories, perform one of the following:\n",
    "- For binary (two-level) categoricals that take numeric values, you can keep them without needing to do anything.\n",
    "- There is one binary variable that takes on non-numeric values. For this one, you need to re-encode the values as numbers or create a dummy variable.\n",
    "- For multi-level categoricals (three or more values), you can choose to encode the values using multiple dummy variables (e.g. via [OneHotEncoder](http://scikit-learn.org/stable/modules/generated/sklearn.preprocessing.OneHotEncoder.html)), or (to keep things straightforward) just drop them from the analysis. As always, document your choices in the Discussion section."
   ]
  },
  {
   "cell_type": "code",
   "execution_count": 20,
   "metadata": {},
   "outputs": [
    {
     "data": {
      "text/plain": [
       "2            ANREDE_KZ\n",
       "3        CJT_GESAMTTYP\n",
       "10           FINANZTYP\n",
       "12     GFK_URLAUBERTYP\n",
       "13    GREEN_AVANTGARDE\n",
       "17     LP_FAMILIE_FEIN\n",
       "18     LP_FAMILIE_GROB\n",
       "19      LP_STATUS_FEIN\n",
       "20      LP_STATUS_GROB\n",
       "21    NATIONALITAET_KZ\n",
       "38         SHOPPER_TYP\n",
       "39             SOHO_KZ\n",
       "41            VERS_TYP\n",
       "42            ZABEOTYP\n",
       "52         GEBAEUDETYP\n",
       "55         OST_WEST_KZ\n",
       "57     CAMEO_DEUG_2015\n",
       "58      CAMEO_DEU_2015\n",
       "Name: attribute, dtype: object"
      ]
     },
     "execution_count": 20,
     "metadata": {},
     "output_type": "execute_result"
    }
   ],
   "source": [
    "# Assess categorical variables: which are binary, which are multi-level, and\n",
    "# which one needs to be re-encoded?\n",
    "categorical = feat_info_cl[feat_info_cl[\"type\"]==\"categorical\"][\"attribute\"]\n",
    "categorical"
   ]
  },
  {
   "cell_type": "code",
   "execution_count": 21,
   "metadata": {},
   "outputs": [],
   "source": [
    "# Identifying binary and multi-level features\n",
    "cat_bin = []\n",
    "cat_multi = []\n",
    "for feature in categorical:\n",
    "    if (len(rows_few[feature].unique()) == 2):\n",
    "        cat_bin.append(feature)\n",
    "    elif (len(rows_few[feature].unique()) > 2):\n",
    "        cat_multi.append(feature)"
   ]
  },
  {
   "cell_type": "code",
   "execution_count": 22,
   "metadata": {},
   "outputs": [
    {
     "name": "stdout",
     "output_type": "stream",
     "text": [
      "Binary features: ['ANREDE_KZ', 'GREEN_AVANTGARDE', 'SOHO_KZ', 'OST_WEST_KZ']\n",
      "Multi-level features: ['CJT_GESAMTTYP', 'FINANZTYP', 'GFK_URLAUBERTYP', 'LP_FAMILIE_FEIN', 'LP_FAMILIE_GROB', 'LP_STATUS_FEIN', 'LP_STATUS_GROB', 'NATIONALITAET_KZ', 'SHOPPER_TYP', 'VERS_TYP', 'ZABEOTYP', 'GEBAEUDETYP', 'CAMEO_DEUG_2015', 'CAMEO_DEU_2015']\n"
     ]
    }
   ],
   "source": [
    "print('Binary features: {}'.format(cat_bin))\n",
    "print('Multi-level features: {}'.format(cat_multi))"
   ]
  },
  {
   "cell_type": "code",
   "execution_count": 23,
   "metadata": {},
   "outputs": [
    {
     "name": "stdout",
     "output_type": "stream",
     "text": [
      "ANREDE_KZ [2 1]\n",
      "GREEN_AVANTGARDE [0 1]\n",
      "SOHO_KZ [ 1.  0.]\n",
      "OST_WEST_KZ ['W' 'O']\n"
     ]
    }
   ],
   "source": [
    "# Identifying unique values in Binary features\n",
    "for feature in cat_bin:\n",
    "    print('{} {}'.format(feature, rows_few[feature].unique()))"
   ]
  },
  {
   "cell_type": "code",
   "execution_count": 24,
   "metadata": {},
   "outputs": [],
   "source": [
    "# Re-encode categorical variable(s) to be kept in the analysis.\n",
    "rep_val = {'W': 0, 'O': 1}\n",
    "azdias_cl = rows_few.replace({'OST_WEST_KZ':rep_val})"
   ]
  },
  {
   "cell_type": "code",
   "execution_count": 25,
   "metadata": {},
   "outputs": [
    {
     "name": "stdout",
     "output_type": "stream",
     "text": [
      "ANREDE_KZ [2 1]\n",
      "GREEN_AVANTGARDE [0 1]\n",
      "SOHO_KZ [ 1.  0.]\n",
      "OST_WEST_KZ [0 1]\n"
     ]
    }
   ],
   "source": [
    "# Checking for changes\n",
    "for feature in cat_bin:\n",
    "    print('{} {}'.format(feature, azdias_cl[feature].unique()))"
   ]
  },
  {
   "cell_type": "code",
   "execution_count": 26,
   "metadata": {},
   "outputs": [],
   "source": [
    "# Dropping multi-level features\n",
    "for feature in cat_multi:\n",
    "    azdias_cl = azdias_cl.drop(feature, axis=1)"
   ]
  },
  {
   "cell_type": "markdown",
   "metadata": {},
   "source": [
    "#### Discussion 1.2.1: Re-Encode Categorical Features\n",
    "\n",
    "Regarding categorical features in the dataset I made the following changes:\n",
    "* Separated features into binary and multi-level variables.\n",
    "* Identified unique values of binary features.\n",
    "* Re-encoded values in the 'OST_WEST_KZ' feature as numbers.\n",
    "* Kept binary features and dropped the multi-level features from the dataset."
   ]
  },
  {
   "cell_type": "markdown",
   "metadata": {},
   "source": [
    "#### Step 1.2.2: Engineer Mixed-Type Features\n",
    "\n",
    "There are a handful of features that are marked as \"mixed\" in the feature summary that require special treatment in order to be included in the analysis. There are two in particular that deserve attention; the handling of the rest are up to your own choices:\n",
    "- \"PRAEGENDE_JUGENDJAHRE\" combines information on three dimensions: generation by decade, movement (mainstream vs. avantgarde), and nation (east vs. west). While there aren't enough levels to disentangle east from west, you should create two new variables to capture the other two dimensions: an interval-type variable for decade, and a binary variable for movement.\n",
    "- \"CAMEO_INTL_2015\" combines information on two axes: wealth and life stage. Break up the two-digit codes by their 'tens'-place and 'ones'-place digits into two new ordinal variables (which, for the purposes of this project, is equivalent to just treating them as their raw numeric values).\n",
    "- If you decide to keep or engineer new features around the other mixed-type features, make sure you note your steps in the Discussion section.\n",
    "\n",
    "Be sure to check `Data_Dictionary.md` for the details needed to finish these tasks."
   ]
  },
  {
   "cell_type": "code",
   "execution_count": 27,
   "metadata": {},
   "outputs": [],
   "source": [
    "# Investigate \"PRAEGENDE_JUGENDJAHRE\" and engineer two new variables.\n",
    "# Creating new features\n",
    "azdias_cl['GENERATION'] = azdias_cl['PRAEGENDE_JUGENDJAHRE']\n",
    "azdias_cl['MOVEMENT'] = azdias_cl['PRAEGENDE_JUGENDJAHRE']"
   ]
  },
  {
   "cell_type": "code",
   "execution_count": 28,
   "metadata": {},
   "outputs": [],
   "source": [
    "# Defining dictionary\n",
    "dict_gen = {1:1, 2:1, 3:2, 4:2, 5:3, 6:3, 7:3, 8:4, 9:4, 10:5, 11:5, 12:5, 13:5, 14:6, 15:6}\n",
    "dict_mov = {1:1, 2:0, 3:1, 4:0, 5:1, 6:0, 7:0, 8:1, 9:0, 10:1, 11:0, 12:1, 13:0, 14:1, 15:0}"
   ]
  },
  {
   "cell_type": "code",
   "execution_count": 29,
   "metadata": {},
   "outputs": [],
   "source": [
    "# Replacing values\n",
    "azdias_cl['GENERATION'].replace(dict_gen, inplace=True)\n",
    "azdias_cl['MOVEMENT'].replace(dict_mov, inplace=True)"
   ]
  },
  {
   "cell_type": "code",
   "execution_count": 30,
   "metadata": {},
   "outputs": [],
   "source": [
    "# Investigate \"CAMEO_INTL_2015\" and engineer two new variables.\n",
    "azdias_cl['WEALTH'] = azdias_cl['CAMEO_INTL_2015']\n",
    "azdias_cl['LIFE_ST'] = azdias_cl['CAMEO_INTL_2015']"
   ]
  },
  {
   "cell_type": "code",
   "execution_count": 31,
   "metadata": {},
   "outputs": [],
   "source": [
    "# Defining dictionary\n",
    "dict_wealth = {'11':1, '12':1, '13':1, '14':1, '15':1, '21':2, '22':2, '23':2, '24':2, '25':2,\n",
    "               '31':3, '32':3, '33':3, '34':3, '35':3, '41':4, '42':4, '43':4, '44':4, '45':4,\n",
    "               '51':5, '52':5, '53':5, '54':5, '55':5}\n",
    "\n",
    "dict_life_st = {'11':1, '12':2, '13':3, '14':4, '15':5, '21':1, '22':2, '23':3, '24':4, '25':5,\n",
    "                   '31':1, '32':2, '33':3, '34':4, '35':5, '41':1, '42':2, '43':3, '44':4, '45':5,\n",
    "                   '51':1, '52':2, '53':3, '54':4, '55':5}"
   ]
  },
  {
   "cell_type": "code",
   "execution_count": 32,
   "metadata": {},
   "outputs": [],
   "source": [
    "# Replacing values\n",
    "azdias_cl['WEALTH'].replace(dict_wealth, inplace=True)\n",
    "azdias_cl['LIFE_ST'].replace(dict_life_st, inplace=True)"
   ]
  },
  {
   "cell_type": "code",
   "execution_count": 33,
   "metadata": {},
   "outputs": [],
   "source": [
    "# Dropping mixed features\n",
    "mixed = feat_info_cl[feat_info_cl[\"type\"]==\"mixed\"][\"attribute\"]\n",
    "for feature in mixed:\n",
    "    azdias_cl.drop(feature, axis=1, inplace=True)"
   ]
  },
  {
   "cell_type": "code",
   "execution_count": 34,
   "metadata": {},
   "outputs": [
    {
     "name": "stdout",
     "output_type": "stream",
     "text": [
      "49 ordinal\n",
      "6 numeric\n",
      "4 categorical\n"
     ]
    }
   ],
   "source": [
    "# Checking changes\n",
    "features = list(azdias_cl.columns)\n",
    "feat_info_cl = feat_info[feat_info['attribute'].isin(features)]\n",
    "tp_count = feat_info_cl['type'].value_counts()\n",
    "for i in range(len(tp_count)):\n",
    "    print('{} {}'.format(tp_count[i], tp_count.index[i]))"
   ]
  },
  {
   "cell_type": "markdown",
   "metadata": {},
   "source": [
    "#### Discussion 1.2.2: Engineer Mixed-Type Features\n",
    "\n",
    "As it was suggested, I realized a number of operations in order to apply changes to the features 'PRAEGENDE_JUGENDJAHRE' and 'CAMEO_INTL_2015'.\n",
    "* Created additional feature columns, two for each of the original features.\n",
    "* Dictionaries were created in order to map original values into new feature values.\n",
    "* Replaced values in new feature columns.\n",
    "* Rest of mixed features were dropped from the dataset."
   ]
  },
  {
   "cell_type": "markdown",
   "metadata": {},
   "source": [
    "#### Step 1.2.3: Complete Feature Selection\n",
    "\n",
    "In order to finish this step up, you need to make sure that your data frame now only has the columns that you want to keep. To summarize, the dataframe should consist of the following:\n",
    "- All numeric, interval, and ordinal type columns from the original dataset.\n",
    "- Binary categorical features (all numerically-encoded).\n",
    "- Engineered features from other multi-level categorical features and mixed features.\n",
    "\n",
    "Make sure that for any new columns that you have engineered, that you've excluded the original columns from the final dataset. Otherwise, their values will interfere with the analysis later on the project. For example, you should not keep \"PRAEGENDE_JUGENDJAHRE\", since its values won't be useful for the algorithm: only the values derived from it in the engineered features you created should be retained. As a reminder, your data should only be from **the subset with few or no missing values**."
   ]
  },
  {
   "cell_type": "code",
   "execution_count": 35,
   "metadata": {},
   "outputs": [],
   "source": [
    "# If there are other re-engineering tasks you need to perform, make sure you\n",
    "# take care of them here. (Dealing with missing data will come in step 2.1.)"
   ]
  },
  {
   "cell_type": "code",
   "execution_count": 36,
   "metadata": {},
   "outputs": [
    {
     "data": {
      "text/html": [
       "<div>\n",
       "<style scoped>\n",
       "    .dataframe tbody tr th:only-of-type {\n",
       "        vertical-align: middle;\n",
       "    }\n",
       "\n",
       "    .dataframe tbody tr th {\n",
       "        vertical-align: top;\n",
       "    }\n",
       "\n",
       "    .dataframe thead th {\n",
       "        text-align: right;\n",
       "    }\n",
       "</style>\n",
       "<table border=\"1\" class=\"dataframe\">\n",
       "  <thead>\n",
       "    <tr style=\"text-align: right;\">\n",
       "      <th></th>\n",
       "      <th>ALTERSKATEGORIE_GROB</th>\n",
       "      <th>ANREDE_KZ</th>\n",
       "      <th>FINANZ_MINIMALIST</th>\n",
       "      <th>FINANZ_SPARER</th>\n",
       "      <th>FINANZ_VORSORGER</th>\n",
       "      <th>FINANZ_ANLEGER</th>\n",
       "      <th>FINANZ_UNAUFFAELLIGER</th>\n",
       "      <th>FINANZ_HAUSBAUER</th>\n",
       "      <th>GREEN_AVANTGARDE</th>\n",
       "      <th>HEALTH_TYP</th>\n",
       "      <th>...</th>\n",
       "      <th>PLZ8_ANTG4</th>\n",
       "      <th>PLZ8_HHZ</th>\n",
       "      <th>PLZ8_GBZ</th>\n",
       "      <th>ARBEIT</th>\n",
       "      <th>ORTSGR_KLS9</th>\n",
       "      <th>RELAT_AB</th>\n",
       "      <th>GENERATION</th>\n",
       "      <th>MOVEMENT</th>\n",
       "      <th>WEALTH</th>\n",
       "      <th>LIFE_ST</th>\n",
       "    </tr>\n",
       "  </thead>\n",
       "  <tbody>\n",
       "    <tr>\n",
       "      <th>1</th>\n",
       "      <td>1.0</td>\n",
       "      <td>2</td>\n",
       "      <td>1</td>\n",
       "      <td>5</td>\n",
       "      <td>2</td>\n",
       "      <td>5</td>\n",
       "      <td>4</td>\n",
       "      <td>5</td>\n",
       "      <td>0</td>\n",
       "      <td>3.0</td>\n",
       "      <td>...</td>\n",
       "      <td>1.0</td>\n",
       "      <td>5.0</td>\n",
       "      <td>4.0</td>\n",
       "      <td>3.0</td>\n",
       "      <td>5.0</td>\n",
       "      <td>4.0</td>\n",
       "      <td>6.0</td>\n",
       "      <td>1.0</td>\n",
       "      <td>5.0</td>\n",
       "      <td>1.0</td>\n",
       "    </tr>\n",
       "    <tr>\n",
       "      <th>2</th>\n",
       "      <td>3.0</td>\n",
       "      <td>2</td>\n",
       "      <td>1</td>\n",
       "      <td>4</td>\n",
       "      <td>1</td>\n",
       "      <td>2</td>\n",
       "      <td>3</td>\n",
       "      <td>5</td>\n",
       "      <td>1</td>\n",
       "      <td>3.0</td>\n",
       "      <td>...</td>\n",
       "      <td>0.0</td>\n",
       "      <td>4.0</td>\n",
       "      <td>4.0</td>\n",
       "      <td>3.0</td>\n",
       "      <td>5.0</td>\n",
       "      <td>2.0</td>\n",
       "      <td>6.0</td>\n",
       "      <td>0.0</td>\n",
       "      <td>2.0</td>\n",
       "      <td>4.0</td>\n",
       "    </tr>\n",
       "    <tr>\n",
       "      <th>3</th>\n",
       "      <td>4.0</td>\n",
       "      <td>2</td>\n",
       "      <td>4</td>\n",
       "      <td>2</td>\n",
       "      <td>5</td>\n",
       "      <td>2</td>\n",
       "      <td>1</td>\n",
       "      <td>2</td>\n",
       "      <td>0</td>\n",
       "      <td>2.0</td>\n",
       "      <td>...</td>\n",
       "      <td>0.0</td>\n",
       "      <td>3.0</td>\n",
       "      <td>4.0</td>\n",
       "      <td>2.0</td>\n",
       "      <td>3.0</td>\n",
       "      <td>3.0</td>\n",
       "      <td>4.0</td>\n",
       "      <td>1.0</td>\n",
       "      <td>1.0</td>\n",
       "      <td>2.0</td>\n",
       "    </tr>\n",
       "    <tr>\n",
       "      <th>4</th>\n",
       "      <td>3.0</td>\n",
       "      <td>1</td>\n",
       "      <td>4</td>\n",
       "      <td>3</td>\n",
       "      <td>4</td>\n",
       "      <td>1</td>\n",
       "      <td>3</td>\n",
       "      <td>2</td>\n",
       "      <td>0</td>\n",
       "      <td>3.0</td>\n",
       "      <td>...</td>\n",
       "      <td>1.0</td>\n",
       "      <td>3.0</td>\n",
       "      <td>3.0</td>\n",
       "      <td>4.0</td>\n",
       "      <td>6.0</td>\n",
       "      <td>5.0</td>\n",
       "      <td>4.0</td>\n",
       "      <td>1.0</td>\n",
       "      <td>4.0</td>\n",
       "      <td>3.0</td>\n",
       "    </tr>\n",
       "    <tr>\n",
       "      <th>5</th>\n",
       "      <td>1.0</td>\n",
       "      <td>2</td>\n",
       "      <td>3</td>\n",
       "      <td>1</td>\n",
       "      <td>5</td>\n",
       "      <td>2</td>\n",
       "      <td>2</td>\n",
       "      <td>5</td>\n",
       "      <td>0</td>\n",
       "      <td>3.0</td>\n",
       "      <td>...</td>\n",
       "      <td>1.0</td>\n",
       "      <td>5.0</td>\n",
       "      <td>5.0</td>\n",
       "      <td>2.0</td>\n",
       "      <td>3.0</td>\n",
       "      <td>3.0</td>\n",
       "      <td>2.0</td>\n",
       "      <td>1.0</td>\n",
       "      <td>5.0</td>\n",
       "      <td>4.0</td>\n",
       "    </tr>\n",
       "  </tbody>\n",
       "</table>\n",
       "<p>5 rows × 63 columns</p>\n",
       "</div>"
      ],
      "text/plain": [
       "   ALTERSKATEGORIE_GROB  ANREDE_KZ  FINANZ_MINIMALIST  FINANZ_SPARER  \\\n",
       "1                   1.0          2                  1              5   \n",
       "2                   3.0          2                  1              4   \n",
       "3                   4.0          2                  4              2   \n",
       "4                   3.0          1                  4              3   \n",
       "5                   1.0          2                  3              1   \n",
       "\n",
       "   FINANZ_VORSORGER  FINANZ_ANLEGER  FINANZ_UNAUFFAELLIGER  FINANZ_HAUSBAUER  \\\n",
       "1                 2               5                      4                 5   \n",
       "2                 1               2                      3                 5   \n",
       "3                 5               2                      1                 2   \n",
       "4                 4               1                      3                 2   \n",
       "5                 5               2                      2                 5   \n",
       "\n",
       "   GREEN_AVANTGARDE  HEALTH_TYP   ...     PLZ8_ANTG4  PLZ8_HHZ  PLZ8_GBZ  \\\n",
       "1                 0         3.0   ...            1.0       5.0       4.0   \n",
       "2                 1         3.0   ...            0.0       4.0       4.0   \n",
       "3                 0         2.0   ...            0.0       3.0       4.0   \n",
       "4                 0         3.0   ...            1.0       3.0       3.0   \n",
       "5                 0         3.0   ...            1.0       5.0       5.0   \n",
       "\n",
       "   ARBEIT  ORTSGR_KLS9  RELAT_AB  GENERATION  MOVEMENT  WEALTH  LIFE_ST  \n",
       "1     3.0          5.0       4.0         6.0       1.0     5.0      1.0  \n",
       "2     3.0          5.0       2.0         6.0       0.0     2.0      4.0  \n",
       "3     2.0          3.0       3.0         4.0       1.0     1.0      2.0  \n",
       "4     4.0          6.0       5.0         4.0       1.0     4.0      3.0  \n",
       "5     2.0          3.0       3.0         2.0       1.0     5.0      4.0  \n",
       "\n",
       "[5 rows x 63 columns]"
      ]
     },
     "execution_count": 36,
     "metadata": {},
     "output_type": "execute_result"
    }
   ],
   "source": [
    "# Do whatever you need to in order to ensure that the dataframe only contains\n",
    "# the columns that should be passed to the algorithm functions.\n",
    "azdias_cl.head()"
   ]
  },
  {
   "cell_type": "markdown",
   "metadata": {},
   "source": [
    "### Step 1.3: Create a Cleaning Function\n",
    "\n",
    "Even though you've finished cleaning up the general population demographics data, it's important to look ahead to the future and realize that you'll need to perform the same cleaning steps on the customer demographics data. In this substep, complete the function below to execute the main feature selection, encoding, and re-engineering steps you performed above. Then, when it comes to looking at the customer data in Step 3, you can just run this function on that DataFrame to get the trimmed dataset in a single step."
   ]
  },
  {
   "cell_type": "code",
   "execution_count": 85,
   "metadata": {},
   "outputs": [],
   "source": [
    "def clean_data(df):\n",
    "    \"\"\"\n",
    "    Perform feature trimming, re-encoding, and engineering for demographics\n",
    "    data\n",
    "    \n",
    "    INPUT: Demographics DataFrame\n",
    "    OUTPUT: Trimmed and cleaned demographics DataFrame\n",
    "    \"\"\"\n",
    "    # Put in code here to execute all main cleaning steps:\n",
    "    # convert missing value codes into NaNs, ...\n",
    "    for feat in range(len(feat_info)):\n",
    "        miss_vals = feat_info.iloc[feat]['missing_or_unknown']\n",
    "        miss_vals = miss_vals.strip('[')\n",
    "        miss_vals = miss_vals.strip(']')\n",
    "        miss_vals = miss_vals.split(sep=',')\n",
    "        miss_vals = [int(val) if (val!='X' and val!='XX' and val!='') else val for val in miss_vals]\n",
    "        if miss_vals != ['']:\n",
    "            df_cl = df.replace({feat_info.iloc[feat]['attribute']: miss_vals}, np.nan)\n",
    "    \n",
    "    for col in df.columns:\n",
    "        df_cl = df_cl.replace({col: ['XX', 'X']}, np.nan)\n",
    "    \n",
    "    # drop columns with 20% or more missing values\n",
    "    dropout = ['AGER_TYP', 'GEBURTSJAHR', 'TITEL_KZ', 'ALTER_HH', 'KK_KUNDENTYP', 'KBA05_BAUMAX']\n",
    "    df_cl = df_cl.drop(dropout, axis=1)\n",
    "    \n",
    "    # drop rows with 3 or more missing values\n",
    "    df_cl = df_cl[df_cl.isnull().sum(axis=1) <= 20]\n",
    "    \n",
    "    # select, re-encode, and engineer column values.\n",
    "    # re-encode 'OST_WEST_KZ' feature\n",
    "    rep_val = {'W': 0, 'O': 1}\n",
    "    df_cl = df_cl.replace({'OST_WEST_KZ':rep_val})\n",
    "    \n",
    "    # drop multi-level feature\n",
    "    categorical = feat_info_cl[feat_info_cl[\"type\"]==\"categorical\"][\"attribute\"]\n",
    "    cat_multi = []\n",
    "    for feature in categorical:\n",
    "        if (len(rows_few[feature].unique())>2):\n",
    "            cat_multi.append(feature)\n",
    "    for feature in cat_multi:\n",
    "        df_cl = df_cl.drop(feature, axis=1)\n",
    "                                 \n",
    "    # mixed features: engineer 'PRAEGENDE_JUGENDJAHRE' feature\n",
    "    df_cl['GENERATION'] = df_cl['PRAEGENDE_JUGENDJAHRE']\n",
    "    df_cl['MOVEMENT'] = df_cl['PRAEGENDE_JUGENDJAHRE']\n",
    "    dict_gen = {1:1, 2:1, 3:2, 4:2, 5:3, 6:3, 7:3, 8:4, 9:4, 10:5, 11:5, 12:5, 13:5, 14:6, 15:6}\n",
    "    dict_mov = {1:1, 2:0, 3:1, 4:0, 5:1, 6:0, 7:0, 8:1, 9:0, 10:1, 11:0, 12:1, 13:0, 14:1, 15:0}\n",
    "    df_cl['GENERATION'].replace(dict_gen, inplace=True)\n",
    "    df_cl['MOVEMENT'].replace(dict_mov, inplace=True)\n",
    "    \n",
    "    # mixed features: engineer 'CAMEO_INTL_2015' feature\n",
    "    df_cl['WEALTH'] = df_cl['CAMEO_INTL_2015']\n",
    "    df_cl['LIFE_ST'] = df_cl['CAMEO_INTL_2015']\n",
    "    dict_wealth = {'11':1, '12':1, '13':1, '14':1, '15':1, '21':2, '22':2, '23':2, '24':2, '25':2,\n",
    "               '31':3, '32':3, '33':3, '34':3, '35':3, '41':4, '42':4, '43':4, '44':4, '45':4,\n",
    "               '51':5, '52':5, '53':5, '54':5, '55':5}\n",
    "    dict_life_st = {'11':1, '12':2, '13':3, '14':4, '15':5, '21':1, '22':2, '23':3, '24':4, '25':5,\n",
    "                   '31':1, '32':2, '33':3, '34':4, '35':5, '41':1, '42':2, '43':3, '44':4, '45':5,\n",
    "                   '51':1, '52':2, '53':3, '54':4, '55':5}\n",
    "    df_cl['WEALTH'].replace(dict_wealth, inplace=True)\n",
    "    df_cl['LIFE_ST'].replace(dict_life_st, inplace=True)\n",
    "\n",
    "    # Drop mixed features\n",
    "    \n",
    "    mixed = feat_info_cl[feat_info_cl[\"type\"]==\"mixed\"][\"attribute\"]\n",
    "    for feature in mixed:\n",
    "        df_cl.drop(feature, axis=1, inplace=True)\n",
    "    \n",
    "    # Return the cleaned dataframe.\n",
    "    return df_cl"
   ]
  },
  {
   "cell_type": "markdown",
   "metadata": {},
   "source": [
    "## Step 2: Feature Transformation\n",
    "\n",
    "### Step 2.1: Apply Feature Scaling\n",
    "\n",
    "Before we apply dimensionality reduction techniques to the data, we need to perform feature scaling so that the principal component vectors are not influenced by the natural differences in scale for features. Starting from this part of the project, you'll want to keep an eye on the [API reference page for sklearn](http://scikit-learn.org/stable/modules/classes.html) to help you navigate to all of the classes and functions that you'll need. In this substep, you'll need to check the following:\n",
    "\n",
    "- sklearn requires that data not have missing values in order for its estimators to work properly. So, before applying the scaler to your data, make sure that you've cleaned the DataFrame of the remaining missing values. This can be as simple as just removing all data points with missing data, or applying an [Imputer](http://scikit-learn.org/stable/modules/generated/sklearn.preprocessing.Imputer.html) to replace all missing values. You might also try a more complicated procedure where you temporarily remove missing values in order to compute the scaling parameters before re-introducing those missing values and applying imputation. Think about how much missing data you have and what possible effects each approach might have on your analysis, and justify your decision in the discussion section below.\n",
    "- For the actual scaling function, a [StandardScaler](http://scikit-learn.org/stable/modules/generated/sklearn.preprocessing.StandardScaler.html) instance is suggested, scaling each feature to mean 0 and standard deviation 1.\n",
    "- For these classes, you can make use of the `.fit_transform()` method to both fit a procedure to the data as well as apply the transformation to the data at the same time. Don't forget to keep the fit sklearn objects handy, since you'll be applying them to the customer demographics data towards the end of the project."
   ]
  },
  {
   "cell_type": "code",
   "execution_count": 38,
   "metadata": {},
   "outputs": [],
   "source": [
    "# If you've not yet cleaned the dataset of all NaN values, then investigate and\n",
    "# do that now.\n",
    "imp_miss = Imputer(strategy='median')\n",
    "azdias_cl_imp = pd.DataFrame(imp_miss.fit_transform(azdias_cl))\n",
    "azdias_cl_imp.columns = azdias_cl.columns\n",
    "azdias_cl_imp.index = azdias_cl.index"
   ]
  },
  {
   "cell_type": "code",
   "execution_count": 92,
   "metadata": {},
   "outputs": [],
   "source": [
    "# Apply feature scaling to the general population demographics data.\n",
    "scaler = StandardScaler() \n",
    "azdias_cl_scaled = scaler.fit_transform(azdias_cl_imp)"
   ]
  },
  {
   "cell_type": "code",
   "execution_count": 40,
   "metadata": {},
   "outputs": [],
   "source": [
    "azdias_cl_scaled = pd.DataFrame(azdias_cl_scaled, columns=list(azdias_cl_imp))"
   ]
  },
  {
   "cell_type": "code",
   "execution_count": 41,
   "metadata": {},
   "outputs": [
    {
     "data": {
      "text/html": [
       "<div>\n",
       "<style scoped>\n",
       "    .dataframe tbody tr th:only-of-type {\n",
       "        vertical-align: middle;\n",
       "    }\n",
       "\n",
       "    .dataframe tbody tr th {\n",
       "        vertical-align: top;\n",
       "    }\n",
       "\n",
       "    .dataframe thead th {\n",
       "        text-align: right;\n",
       "    }\n",
       "</style>\n",
       "<table border=\"1\" class=\"dataframe\">\n",
       "  <thead>\n",
       "    <tr style=\"text-align: right;\">\n",
       "      <th></th>\n",
       "      <th>ALTERSKATEGORIE_GROB</th>\n",
       "      <th>ANREDE_KZ</th>\n",
       "      <th>FINANZ_MINIMALIST</th>\n",
       "      <th>FINANZ_SPARER</th>\n",
       "      <th>FINANZ_VORSORGER</th>\n",
       "      <th>FINANZ_ANLEGER</th>\n",
       "      <th>FINANZ_UNAUFFAELLIGER</th>\n",
       "      <th>FINANZ_HAUSBAUER</th>\n",
       "      <th>GREEN_AVANTGARDE</th>\n",
       "      <th>HEALTH_TYP</th>\n",
       "      <th>...</th>\n",
       "      <th>PLZ8_ANTG4</th>\n",
       "      <th>PLZ8_HHZ</th>\n",
       "      <th>PLZ8_GBZ</th>\n",
       "      <th>ARBEIT</th>\n",
       "      <th>ORTSGR_KLS9</th>\n",
       "      <th>RELAT_AB</th>\n",
       "      <th>GENERATION</th>\n",
       "      <th>MOVEMENT</th>\n",
       "      <th>WEALTH</th>\n",
       "      <th>LIFE_ST</th>\n",
       "    </tr>\n",
       "  </thead>\n",
       "  <tbody>\n",
       "    <tr>\n",
       "      <th>0</th>\n",
       "      <td>-1.766334</td>\n",
       "      <td>0.958071</td>\n",
       "      <td>-1.494609</td>\n",
       "      <td>1.538200</td>\n",
       "      <td>-1.040726</td>\n",
       "      <td>1.466448</td>\n",
       "      <td>0.959677</td>\n",
       "      <td>1.338816</td>\n",
       "      <td>-0.530567</td>\n",
       "      <td>1.096155</td>\n",
       "      <td>...</td>\n",
       "      <td>0.406788</td>\n",
       "      <td>1.430284</td>\n",
       "      <td>0.573846</td>\n",
       "      <td>-0.166597</td>\n",
       "      <td>-0.127145</td>\n",
       "      <td>0.684744</td>\n",
       "      <td>1.172701</td>\n",
       "      <td>0.530567</td>\n",
       "      <td>1.185975</td>\n",
       "      <td>-1.266758</td>\n",
       "    </tr>\n",
       "    <tr>\n",
       "      <th>1</th>\n",
       "      <td>0.200589</td>\n",
       "      <td>0.958071</td>\n",
       "      <td>-1.494609</td>\n",
       "      <td>0.864824</td>\n",
       "      <td>-1.766955</td>\n",
       "      <td>-0.570799</td>\n",
       "      <td>0.244962</td>\n",
       "      <td>1.338816</td>\n",
       "      <td>1.884775</td>\n",
       "      <td>1.096155</td>\n",
       "      <td>...</td>\n",
       "      <td>-0.985105</td>\n",
       "      <td>0.390942</td>\n",
       "      <td>0.573846</td>\n",
       "      <td>-0.166597</td>\n",
       "      <td>-0.127145</td>\n",
       "      <td>-0.789154</td>\n",
       "      <td>1.172701</td>\n",
       "      <td>-1.884775</td>\n",
       "      <td>-0.868281</td>\n",
       "      <td>0.761225</td>\n",
       "    </tr>\n",
       "    <tr>\n",
       "      <th>2</th>\n",
       "      <td>1.184051</td>\n",
       "      <td>0.958071</td>\n",
       "      <td>0.683150</td>\n",
       "      <td>-0.481928</td>\n",
       "      <td>1.137960</td>\n",
       "      <td>-0.570799</td>\n",
       "      <td>-1.184467</td>\n",
       "      <td>-0.792034</td>\n",
       "      <td>-0.530567</td>\n",
       "      <td>-0.257263</td>\n",
       "      <td>...</td>\n",
       "      <td>-0.985105</td>\n",
       "      <td>-0.648399</td>\n",
       "      <td>0.573846</td>\n",
       "      <td>-1.170130</td>\n",
       "      <td>-0.997689</td>\n",
       "      <td>-0.052205</td>\n",
       "      <td>-0.223456</td>\n",
       "      <td>0.530567</td>\n",
       "      <td>-1.553033</td>\n",
       "      <td>-0.590764</td>\n",
       "    </tr>\n",
       "    <tr>\n",
       "      <th>3</th>\n",
       "      <td>0.200589</td>\n",
       "      <td>-1.043765</td>\n",
       "      <td>0.683150</td>\n",
       "      <td>0.191448</td>\n",
       "      <td>0.411731</td>\n",
       "      <td>-1.249881</td>\n",
       "      <td>0.244962</td>\n",
       "      <td>-0.792034</td>\n",
       "      <td>-0.530567</td>\n",
       "      <td>1.096155</td>\n",
       "      <td>...</td>\n",
       "      <td>0.406788</td>\n",
       "      <td>-0.648399</td>\n",
       "      <td>-0.337337</td>\n",
       "      <td>0.836936</td>\n",
       "      <td>0.308127</td>\n",
       "      <td>1.421694</td>\n",
       "      <td>-0.223456</td>\n",
       "      <td>0.530567</td>\n",
       "      <td>0.501223</td>\n",
       "      <td>0.085231</td>\n",
       "    </tr>\n",
       "    <tr>\n",
       "      <th>4</th>\n",
       "      <td>-1.766334</td>\n",
       "      <td>0.958071</td>\n",
       "      <td>-0.042770</td>\n",
       "      <td>-1.155304</td>\n",
       "      <td>1.137960</td>\n",
       "      <td>-0.570799</td>\n",
       "      <td>-0.469752</td>\n",
       "      <td>1.338816</td>\n",
       "      <td>-0.530567</td>\n",
       "      <td>1.096155</td>\n",
       "      <td>...</td>\n",
       "      <td>0.406788</td>\n",
       "      <td>1.430284</td>\n",
       "      <td>1.485029</td>\n",
       "      <td>-1.170130</td>\n",
       "      <td>-0.997689</td>\n",
       "      <td>-0.052205</td>\n",
       "      <td>-1.619613</td>\n",
       "      <td>0.530567</td>\n",
       "      <td>1.185975</td>\n",
       "      <td>0.761225</td>\n",
       "    </tr>\n",
       "  </tbody>\n",
       "</table>\n",
       "<p>5 rows × 63 columns</p>\n",
       "</div>"
      ],
      "text/plain": [
       "   ALTERSKATEGORIE_GROB  ANREDE_KZ  FINANZ_MINIMALIST  FINANZ_SPARER  \\\n",
       "0             -1.766334   0.958071          -1.494609       1.538200   \n",
       "1              0.200589   0.958071          -1.494609       0.864824   \n",
       "2              1.184051   0.958071           0.683150      -0.481928   \n",
       "3              0.200589  -1.043765           0.683150       0.191448   \n",
       "4             -1.766334   0.958071          -0.042770      -1.155304   \n",
       "\n",
       "   FINANZ_VORSORGER  FINANZ_ANLEGER  FINANZ_UNAUFFAELLIGER  FINANZ_HAUSBAUER  \\\n",
       "0         -1.040726        1.466448               0.959677          1.338816   \n",
       "1         -1.766955       -0.570799               0.244962          1.338816   \n",
       "2          1.137960       -0.570799              -1.184467         -0.792034   \n",
       "3          0.411731       -1.249881               0.244962         -0.792034   \n",
       "4          1.137960       -0.570799              -0.469752          1.338816   \n",
       "\n",
       "   GREEN_AVANTGARDE  HEALTH_TYP    ...     PLZ8_ANTG4  PLZ8_HHZ  PLZ8_GBZ  \\\n",
       "0         -0.530567    1.096155    ...       0.406788  1.430284  0.573846   \n",
       "1          1.884775    1.096155    ...      -0.985105  0.390942  0.573846   \n",
       "2         -0.530567   -0.257263    ...      -0.985105 -0.648399  0.573846   \n",
       "3         -0.530567    1.096155    ...       0.406788 -0.648399 -0.337337   \n",
       "4         -0.530567    1.096155    ...       0.406788  1.430284  1.485029   \n",
       "\n",
       "     ARBEIT  ORTSGR_KLS9  RELAT_AB  GENERATION  MOVEMENT    WEALTH   LIFE_ST  \n",
       "0 -0.166597    -0.127145  0.684744    1.172701  0.530567  1.185975 -1.266758  \n",
       "1 -0.166597    -0.127145 -0.789154    1.172701 -1.884775 -0.868281  0.761225  \n",
       "2 -1.170130    -0.997689 -0.052205   -0.223456  0.530567 -1.553033 -0.590764  \n",
       "3  0.836936     0.308127  1.421694   -0.223456  0.530567  0.501223  0.085231  \n",
       "4 -1.170130    -0.997689 -0.052205   -1.619613  0.530567  1.185975  0.761225  \n",
       "\n",
       "[5 rows x 63 columns]"
      ]
     },
     "execution_count": 41,
     "metadata": {},
     "output_type": "execute_result"
    }
   ],
   "source": [
    "azdias_cl_scaled.head()"
   ]
  },
  {
   "cell_type": "markdown",
   "metadata": {},
   "source": [
    "### Discussion 2.1: Apply Feature Scaling\n",
    "\n",
    "The missing values were imputed using the median, as it is a more robust imputation strategy againts outliers. Considering we are working with populations data, there are features that are prone to exhibit ouliers as many socio-economic features would.\n",
    "\n",
    "The features were then standardized by arranging the data in a normal distribution, using StandardScaler, as it useful in classification. "
   ]
  },
  {
   "cell_type": "markdown",
   "metadata": {},
   "source": [
    "### Step 2.2: Perform Dimensionality Reduction\n",
    "\n",
    "On your scaled data, you are now ready to apply dimensionality reduction techniques.\n",
    "\n",
    "- Use sklearn's [PCA](http://scikit-learn.org/stable/modules/generated/sklearn.decomposition.PCA.html) class to apply principal component analysis on the data, thus finding the vectors of maximal variance in the data. To start, you should not set any parameters (so all components are computed) or set a number of components that is at least half the number of features (so there's enough features to see the general trend in variability).\n",
    "- Check out the ratio of variance explained by each principal component as well as the cumulative variance explained. Try plotting the cumulative or sequential values using matplotlib's [`plot()`](https://matplotlib.org/api/_as_gen/matplotlib.pyplot.plot.html) function. Based on what you find, select a value for the number of transformed features you'll retain for the clustering part of the project.\n",
    "- Once you've made a choice for the number of components to keep, make sure you re-fit a PCA instance to perform the decided-on transformation."
   ]
  },
  {
   "cell_type": "code",
   "execution_count": 42,
   "metadata": {},
   "outputs": [
    {
     "data": {
      "text/plain": [
       "PCA(copy=True, iterated_power='auto', n_components=None, random_state=None,\n",
       "  svd_solver='auto', tol=0.0, whiten=False)"
      ]
     },
     "execution_count": 42,
     "metadata": {},
     "output_type": "execute_result"
    }
   ],
   "source": [
    "# Apply PCA to the data.\n",
    "pca = PCA()\n",
    "pca.fit(azdias_cl_scaled)"
   ]
  },
  {
   "cell_type": "code",
   "execution_count": 43,
   "metadata": {},
   "outputs": [
    {
     "data": {
      "image/png": "[encoded data removed]",
      "text/plain": [
       "<matplotlib.figure.Figure at 0x7fa94120ab38>"
      ]
     },
     "metadata": {
      "needs_background": "light"
     },
     "output_type": "display_data"
    }
   ],
   "source": [
    "# Investigate the variance accounted for by each principal component.\n",
    "plt.bar(range(len(pca.explained_variance_ratio_)), pca.explained_variance_ratio_)\n",
    "plt.title(\"Variance explained by each component\")\n",
    "plt.xlabel(\"Principal component\")\n",
    "plt.ylabel(\"Ratio of variance explained\")\n",
    "plt.show()"
   ]
  },
  {
   "cell_type": "code",
   "execution_count": 44,
   "metadata": {},
   "outputs": [
    {
     "data": {
      "text/plain": [
       "array([ 0.17035823,  0.30684534,  0.40308607,  0.45670634,  0.49491224,\n",
       "        0.52693478,  0.55509968,  0.58024333,  0.60212114,  0.6235319 ,\n",
       "        0.64467193,  0.66398354,  0.68312044,  0.70079016,  0.71765106,\n",
       "        0.7338511 ,  0.74971645,  0.76434033,  0.77776992,  0.79096995,\n",
       "        0.80320065,  0.81511782,  0.82680173,  0.83785185,  0.84746158,\n",
       "        0.85546534,  0.86304855,  0.87058105,  0.87793007,  0.88497014,\n",
       "        0.89162805,  0.89824144,  0.90464247,  0.91085885,  0.91697845,\n",
       "        0.92257958,  0.92764383,  0.93264493,  0.93722254,  0.94161539,\n",
       "        0.94580511,  0.9499407 ,  0.9539066 ,  0.95785643,  0.96138776,\n",
       "        0.96467373,  0.96790111,  0.97098545,  0.97388706,  0.9766474 ,\n",
       "        0.97937834,  0.98199774,  0.98440386,  0.98666595,  0.98888096,\n",
       "        0.99086792,  0.99283821,  0.9946561 ,  0.99633084,  0.99778449,\n",
       "        0.99909885,  1.        ,  1.        ])"
      ]
     },
     "execution_count": 44,
     "metadata": {},
     "output_type": "execute_result"
    }
   ],
   "source": [
    "np.cumsum(pca.explained_variance_ratio_)"
   ]
  },
  {
   "cell_type": "code",
   "execution_count": 45,
   "metadata": {},
   "outputs": [],
   "source": [
    "# Re-apply PCA to the data while selecting for number of components to retain.\n",
    "pca_26 = PCA(n_components=26)\n",
    "azdias_pca = pca_26.fit_transform(azdias_cl_scaled)"
   ]
  },
  {
   "cell_type": "code",
   "execution_count": 46,
   "metadata": {},
   "outputs": [
    {
     "data": {
      "image/png": "[encoded data removed]",
      "text/plain": [
       "<matplotlib.figure.Figure at 0x7fa9408ecd30>"
      ]
     },
     "metadata": {
      "needs_background": "light"
     },
     "output_type": "display_data"
    },
    {
     "name": "stdout",
     "output_type": "stream",
     "text": [
      "[ 0.17035823  0.30684534  0.40308607  0.45670634  0.49491224  0.52693477\n",
      "  0.55509967  0.58024331  0.6021211   0.62353178  0.64467159  0.66398294\n",
      "  0.68311946  0.70078882  0.71764949  0.73384862  0.74971364  0.76433695\n",
      "  0.7777658   0.79095923  0.80318569  0.81509736  0.8267655   0.83780007\n",
      "  0.84737873  0.85528907]\n"
     ]
    }
   ],
   "source": [
    "plt.plot(range(len(pca_26.explained_variance_ratio_)),np.cumsum(pca_26.explained_variance_ratio_), '-')\n",
    "plt.title(\"Cumulative Explained Variance\")\n",
    "plt.xlabel(\"Number of Components\")\n",
    "plt.ylabel(\"Variance explained (Percent)\")\n",
    "plt.show()\n",
    "print(np.cumsum(pca_26.explained_variance_ratio_))"
   ]
  },
  {
   "cell_type": "markdown",
   "metadata": {},
   "source": [
    "### Discussion 2.2: Perform Dimensionality Reduction\n",
    "\n",
    "I retained 26 principal components as it explains more than 85% of the features variance."
   ]
  },
  {
   "cell_type": "markdown",
   "metadata": {},
   "source": [
    "### Step 2.3: Interpret Principal Components\n",
    "\n",
    "Now that we have our transformed principal components, it's a nice idea to check out the weight of each variable on the first few components to see if they can be interpreted in some fashion.\n",
    "\n",
    "As a reminder, each principal component is a unit vector that points in the direction of highest variance (after accounting for the variance captured by earlier principal components). The further a weight is from zero, the more the principal component is in the direction of the corresponding feature. If two features have large weights of the same sign (both positive or both negative), then increases in one tend expect to be associated with increases in the other. To contrast, features with different signs can be expected to show a negative correlation: increases in one variable should result in a decrease in the other.\n",
    "\n",
    "- To investigate the features, you should map each weight to their corresponding feature name, then sort the features according to weight. The most interesting features for each principal component, then, will be those at the beginning and end of the sorted list. Use the data dictionary document to help you understand these most prominent features, their relationships, and what a positive or negative value on the principal component might indicate.\n",
    "- You should investigate and interpret feature associations from the first three principal components in this substep. To help facilitate this, you should write a function that you can call at any time to print the sorted list of feature weights, for the *i*-th principal component. This might come in handy in the next step of the project, when you interpret the tendencies of the discovered clusters."
   ]
  },
  {
   "cell_type": "code",
   "execution_count": 47,
   "metadata": {},
   "outputs": [],
   "source": [
    "# Map weights for the first principal component to corresponding feature names\n",
    "# and then print the linked values, sorted by weight.\n",
    "# HINT: Try defining a function here or in a new cell that you can reuse in the\n",
    "# other cells.\n",
    "def weights(pca, comp):\n",
    "    df = pd.DataFrame(pca.components_, columns=list(azdias_cl_scaled.columns))\n",
    "    weights = df.iloc[comp].sort_values(ascending=False)\n",
    "    return weights"
   ]
  },
  {
   "cell_type": "code",
   "execution_count": 48,
   "metadata": {},
   "outputs": [
    {
     "name": "stdout",
     "output_type": "stream",
     "text": [
      "PLZ8_ANTG3               0.226929\n",
      "PLZ8_ANTG4               0.220157\n",
      "WEALTH                   0.207419\n",
      "HH_EINKOMMEN_SCORE       0.203964\n",
      "ORTSGR_KLS9              0.197979\n",
      "EWDICHTE                 0.196178\n",
      "FINANZ_HAUSBAUER         0.162804\n",
      "KBA05_ANTG4              0.155961\n",
      "PLZ8_ANTG2               0.154635\n",
      "FINANZ_SPARER            0.144315\n",
      "ARBEIT                   0.144098\n",
      "KBA05_ANTG3              0.138508\n",
      "ANZ_HAUSHALTE_AKTIV      0.137078\n",
      "RELAT_AB                 0.135998\n",
      "SEMIO_PFLICHT            0.113205\n",
      "SEMIO_REL                0.110426\n",
      "MOVEMENT                 0.109605\n",
      "GENERATION               0.097777\n",
      "SEMIO_RAT                0.093090\n",
      "SEMIO_TRADV              0.086843\n",
      "SEMIO_MAT                0.077724\n",
      "SEMIO_FAM                0.076248\n",
      "FINANZ_UNAUFFAELLIGER    0.071918\n",
      "SEMIO_KULT               0.070557\n",
      "REGIOTYP                 0.068542\n",
      "FINANZ_ANLEGER           0.067519\n",
      "OST_WEST_KZ              0.054291\n",
      "SEMIO_SOZ                0.042168\n",
      "PLZ8_HHZ                 0.041603\n",
      "SEMIO_KAEM               0.040513\n",
      "                           ...   \n",
      "HEALTH_TYP               0.028304\n",
      "SEMIO_DOM                0.024188\n",
      "KBA05_ANTG2              0.010230\n",
      "ANREDE_KZ                0.008347\n",
      "SEMIO_KRIT               0.004552\n",
      "SOHO_KZ                 -0.002013\n",
      "ANZ_TITEL               -0.004061\n",
      "RETOURTYP_BK_S          -0.017052\n",
      "SEMIO_VERT              -0.040674\n",
      "ONLINE_AFFINITAET       -0.046008\n",
      "MIN_GEBAEUDEJAHR        -0.048815\n",
      "WOHNDAUER_2008          -0.058541\n",
      "SEMIO_LUST              -0.070690\n",
      "SEMIO_ERL               -0.074008\n",
      "KBA13_ANZAHL_PKW        -0.078571\n",
      "ANZ_PERSONEN            -0.078895\n",
      "GREEN_AVANTGARDE        -0.109605\n",
      "FINANZ_VORSORGER        -0.112050\n",
      "ALTERSKATEGORIE_GROB    -0.116950\n",
      "GEBAEUDETYP_RASTER      -0.117826\n",
      "LIFE_ST                 -0.125599\n",
      "BALLRAUM                -0.127968\n",
      "INNENSTADT              -0.165474\n",
      "PLZ8_GBZ                -0.168151\n",
      "KONSUMNAEHE             -0.168595\n",
      "KBA05_GBZ               -0.217179\n",
      "FINANZ_MINIMALIST       -0.219175\n",
      "KBA05_ANTG1             -0.223768\n",
      "PLZ8_ANTG1              -0.226995\n",
      "MOBI_REGIO              -0.243274\n",
      "Name: 0, Length: 63, dtype: float64\n"
     ]
    }
   ],
   "source": [
    "# Weights by feature name of the first component\n",
    "print(weights(pca_26, 0))"
   ]
  },
  {
   "cell_type": "code",
   "execution_count": 49,
   "metadata": {},
   "outputs": [
    {
     "name": "stdout",
     "output_type": "stream",
     "text": [
      "ALTERSKATEGORIE_GROB     0.260905\n",
      "FINANZ_VORSORGER         0.233403\n",
      "SEMIO_ERL                0.231390\n",
      "SEMIO_LUST               0.184171\n",
      "RETOURTYP_BK_S           0.163817\n",
      "W_KEIT_KIND_HH           0.119513\n",
      "FINANZ_HAUSBAUER         0.116847\n",
      "SEMIO_KRIT               0.115406\n",
      "SEMIO_KAEM               0.112486\n",
      "ANREDE_KZ                0.090967\n",
      "PLZ8_ANTG3               0.089315\n",
      "EWDICHTE                 0.089310\n",
      "ORTSGR_KLS9              0.087875\n",
      "PLZ8_ANTG4               0.085255\n",
      "WEALTH                   0.072589\n",
      "SEMIO_DOM                0.070954\n",
      "KBA05_ANTG4              0.070234\n",
      "FINANZ_MINIMALIST        0.067124\n",
      "ARBEIT                   0.065952\n",
      "RELAT_AB                 0.063413\n",
      "ANZ_HAUSHALTE_AKTIV      0.061859\n",
      "PLZ8_ANTG2               0.061765\n",
      "WOHNDAUER_2008           0.060967\n",
      "HH_EINKOMMEN_SCORE       0.055055\n",
      "KBA05_ANTG3              0.045681\n",
      "ANZ_HH_TITEL             0.030767\n",
      "OST_WEST_KZ              0.025273\n",
      "REGIOTYP                 0.017020\n",
      "MOVEMENT                 0.015432\n",
      "PLZ8_HHZ                 0.011520\n",
      "                           ...   \n",
      "SOHO_KZ                 -0.001867\n",
      "KBA05_ANTG2             -0.008071\n",
      "GREEN_AVANTGARDE        -0.015432\n",
      "KBA13_ANZAHL_PKW        -0.034823\n",
      "GEBAEUDETYP_RASTER      -0.042699\n",
      "MIN_GEBAEUDEJAHR        -0.048117\n",
      "HEALTH_TYP              -0.058795\n",
      "BALLRAUM                -0.058898\n",
      "ANZ_PERSONEN            -0.060722\n",
      "KONSUMNAEHE             -0.067974\n",
      "PLZ8_GBZ                -0.068874\n",
      "SEMIO_VERT              -0.069975\n",
      "INNENSTADT              -0.072338\n",
      "KBA05_ANTG1             -0.073350\n",
      "KBA05_GBZ               -0.084513\n",
      "MOBI_REGIO              -0.086102\n",
      "PLZ8_ANTG1              -0.087272\n",
      "SEMIO_SOZ               -0.103473\n",
      "SEMIO_MAT               -0.162577\n",
      "ONLINE_AFFINITAET       -0.165254\n",
      "SEMIO_RAT               -0.170413\n",
      "SEMIO_FAM               -0.184542\n",
      "FINANZ_ANLEGER          -0.204491\n",
      "SEMIO_KULT              -0.219931\n",
      "FINANZ_UNAUFFAELLIGER   -0.227757\n",
      "SEMIO_PFLICHT           -0.227976\n",
      "SEMIO_TRADV             -0.231638\n",
      "FINANZ_SPARER           -0.236354\n",
      "GENERATION              -0.252672\n",
      "SEMIO_REL               -0.254717\n",
      "Name: 1, Length: 63, dtype: float64\n"
     ]
    }
   ],
   "source": [
    "# Map weights for the second principal component to corresponding feature names\n",
    "# and then print the linked values, sorted by weight.\n",
    "print(weights(pca_26, 1))"
   ]
  },
  {
   "cell_type": "code",
   "execution_count": 50,
   "metadata": {},
   "outputs": [
    {
     "name": "stdout",
     "output_type": "stream",
     "text": [
      "SEMIO_VERT               0.345075\n",
      "SEMIO_SOZ                0.262073\n",
      "SEMIO_FAM                0.249735\n",
      "SEMIO_KULT               0.234822\n",
      "FINANZ_MINIMALIST        0.155925\n",
      "RETOURTYP_BK_S           0.109059\n",
      "FINANZ_VORSORGER         0.101491\n",
      "W_KEIT_KIND_HH           0.091375\n",
      "ALTERSKATEGORIE_GROB     0.079549\n",
      "SEMIO_REL                0.069211\n",
      "SEMIO_LUST               0.064982\n",
      "SEMIO_MAT                0.055738\n",
      "GREEN_AVANTGARDE         0.047389\n",
      "ORTSGR_KLS9              0.046786\n",
      "EWDICHTE                 0.046155\n",
      "PLZ8_ANTG4               0.045334\n",
      "PLZ8_ANTG3               0.045011\n",
      "ARBEIT                   0.035023\n",
      "WOHNDAUER_2008           0.032921\n",
      "RELAT_AB                 0.031945\n",
      "PLZ8_ANTG2               0.030167\n",
      "KBA05_ANTG4              0.028474\n",
      "WEALTH                   0.027807\n",
      "ANZ_HAUSHALTE_AKTIV      0.025438\n",
      "OST_WEST_KZ              0.015336\n",
      "ANZ_HH_TITEL             0.013399\n",
      "KBA05_ANTG3              0.010101\n",
      "ANZ_TITEL                0.009773\n",
      "PLZ8_HHZ                 0.003928\n",
      "SOHO_KZ                  0.000203\n",
      "                           ...   \n",
      "KBA05_ANTG2             -0.010069\n",
      "KKK                     -0.015453\n",
      "MIN_GEBAEUDEJAHR        -0.017324\n",
      "HH_EINKOMMEN_SCORE      -0.018539\n",
      "HEALTH_TYP              -0.021748\n",
      "KBA05_ANTG1             -0.022365\n",
      "KBA13_ANZAHL_PKW        -0.023381\n",
      "KBA05_GBZ               -0.026384\n",
      "MOBI_REGIO              -0.029732\n",
      "GEBAEUDETYP_RASTER      -0.030520\n",
      "BALLRAUM                -0.034820\n",
      "KONSUMNAEHE             -0.037856\n",
      "PLZ8_GBZ                -0.038395\n",
      "FINANZ_HAUSBAUER        -0.041665\n",
      "INNENSTADT              -0.042823\n",
      "PLZ8_ANTG1              -0.046024\n",
      "MOVEMENT                -0.047389\n",
      "ONLINE_AFFINITAET       -0.055413\n",
      "SEMIO_PFLICHT           -0.079110\n",
      "SEMIO_TRADV             -0.079576\n",
      "FINANZ_UNAUFFAELLIGER   -0.100071\n",
      "FINANZ_SPARER           -0.106740\n",
      "GENERATION              -0.107309\n",
      "SEMIO_ERL               -0.175809\n",
      "FINANZ_ANLEGER          -0.189696\n",
      "SEMIO_RAT               -0.217729\n",
      "SEMIO_KRIT              -0.275712\n",
      "SEMIO_DOM               -0.313999\n",
      "SEMIO_KAEM              -0.336605\n",
      "ANREDE_KZ               -0.368272\n",
      "Name: 2, Length: 63, dtype: float64\n"
     ]
    }
   ],
   "source": [
    "# Map weights for the third principal component to corresponding feature names\n",
    "# and then print the linked values, sorted by weight.\n",
    "print(weights(pca_26, 2))"
   ]
  },
  {
   "cell_type": "markdown",
   "metadata": {},
   "source": [
    "### Discussion 2.3: Interpret Principal Components\n",
    "\n",
    "(Double-click this cell and replace this text with your own text, reporting your observations from detailed investigation of the first few principal components generated. Can we interpret positive and negative values from them in a meaningful way?)\n",
    "\n",
    "First component:\n",
    "* The three features with higher positive correlation are PLZ8_ANTG3 (Number of 6-10 family houses), PLZ8_ANTG4 (Number of 10+ family houses) and WEALTH (Wealth / Life Stage Typology).\n",
    "* A possible interpretation is that the number of 6-10 and 10+ family houses in the region tend to increase together, and as they increase the share of poor households increases as well.\n",
    "* The feature with higher negative correlation is MOBI_REGIO (Movement patterns). A possible interpretation is that as the previously mentioned features with positive correlation increase the movement patters of the population increase as well (1 is 'very high movement' and 6 is 'none').\n",
    "\n",
    "Second component:\n",
    "* The three features with higher positive correlation are ALTERSKATEGORIE_GROB (Estimated age based on given name analysis), SEMIO_ERL (personality typology / event-oriented) and FINANZ_VORSORGER (Financial typology / be prepared).\n",
    "* A possible interpretation is as the estimated age increases the affinity to an event oriented personality decreases (7: lowest affinity) and thw tendecy to be prepared financially decreases as well (5: very low).\n",
    "* The feature with higher negative correlation is SEMIO_REL (Personality typology / religious). A possible interpretation is that as the estimated age increases the affinity to a religious personality increases as well (1: highest affinity)\n",
    "\n",
    "Third component:\n",
    "* The three features with higher positive correlation are personality typologies: SEMIO_VERT (dreamful), SEMIO_SOZ (socially-minded) and SEMIO_FAM (family-minded).\n",
    "* It's interesting that these three features have a negative correlation with ANREDE_KZ (Gender), so as these personaity typologies increase (highest to lowest affinity) they tend to be associated with the male gender (1: male, 2: female)."
   ]
  },
  {
   "cell_type": "markdown",
   "metadata": {},
   "source": [
    "## Step 3: Clustering\n",
    "\n",
    "### Step 3.1: Apply Clustering to General Population\n",
    "\n",
    "You've assessed and cleaned the demographics data, then scaled and transformed them. Now, it's time to see how the data clusters in the principal components space. In this substep, you will apply k-means clustering to the dataset and use the average within-cluster distances from each point to their assigned cluster's centroid to decide on a number of clusters to keep.\n",
    "\n",
    "- Use sklearn's [KMeans](http://scikit-learn.org/stable/modules/generated/sklearn.cluster.KMeans.html#sklearn.cluster.KMeans) class to perform k-means clustering on the PCA-transformed data.\n",
    "- Then, compute the average difference from each point to its assigned cluster's center. **Hint**: The KMeans object's `.score()` method might be useful here, but note that in sklearn, scores tend to be defined so that larger is better. Try applying it to a small, toy dataset, or use an internet search to help your understanding.\n",
    "- Perform the above two steps for a number of different cluster counts. You can then see how the average distance decreases with an increasing number of clusters. However, each additional cluster provides a smaller net benefit. Use this fact to select a final number of clusters in which to group the data. **Warning**: because of the large size of the dataset, it can take a long time for the algorithm to resolve. The more clusters to fit, the longer the algorithm will take. You should test for cluster counts through at least 10 clusters to get the full picture, but you shouldn't need to test for a number of clusters above about 30.\n",
    "- Once you've selected a final number of clusters to use, re-fit a KMeans instance to perform the clustering operation. Make sure that you also obtain the cluster assignments for the general demographics data, since you'll be using them in the final Step 3.3."
   ]
  },
  {
   "cell_type": "code",
   "execution_count": 51,
   "metadata": {},
   "outputs": [],
   "source": [
    "def get_score(data, k):\n",
    "    kmeans = KMeans(n_clusters = k)\n",
    "    model = kmeans.fit(data)\n",
    "    score = np.abs(model.score(data))\n",
    "    return score"
   ]
  },
  {
   "cell_type": "code",
   "execution_count": 52,
   "metadata": {},
   "outputs": [],
   "source": [
    "scores = []\n",
    "ks = list(range(1,20))\n",
    "for k in ks:\n",
    "    scores.append(get_score(azdias_pca, k))"
   ]
  },
  {
   "cell_type": "code",
   "execution_count": 53,
   "metadata": {},
   "outputs": [
    {
     "data": {
      "text/plain": [
       "Text(0,0.5,'SSE')"
      ]
     },
     "execution_count": 53,
     "metadata": {},
     "output_type": "execute_result"
    },
    {
     "data": {
      "image/png": "[encoded data removed]",
      "text/plain": [
       "<matplotlib.figure.Figure at 0x7fa940941ba8>"
      ]
     },
     "metadata": {
      "needs_background": "light"
     },
     "output_type": "display_data"
    }
   ],
   "source": [
    "# Investigate the change in within-cluster distance across number of clusters.\n",
    "# HINT: Use matplotlib's plot function to visualize this relationship.\n",
    "plt.plot(ks, scores, linestyle='-', marker='o')\n",
    "plt.xlabel('K');\n",
    "plt.ylabel('SSE')"
   ]
  },
  {
   "cell_type": "code",
   "execution_count": 55,
   "metadata": {},
   "outputs": [],
   "source": [
    "# Re-fit the k-means model with the selected number of clusters and obtain\n",
    "# cluster predictions for the general population demographics data.\n",
    "kms = KMeans(n_clusters = 14)\n",
    "kms_14 = kms.fit(azdias_pca)\n",
    "azdias_pred = kms_14.predict(azdias_pca)"
   ]
  },
  {
   "cell_type": "markdown",
   "metadata": {},
   "source": [
    "### Discussion 3.1: Apply Clustering to General Population\n",
    "\n",
    "From the representation in the plot above, it looks like 14 as the number of clusters (K) is the elbow. Therefore, 14 is the number of clusters I will use."
   ]
  },
  {
   "cell_type": "markdown",
   "metadata": {},
   "source": [
    "### Step 3.2: Apply All Steps to the Customer Data\n",
    "\n",
    "Now that you have clusters and cluster centers for the general population, it's time to see how the customer data maps on to those clusters. Take care to not confuse this for re-fitting all of the models to the customer data. Instead, you're going to use the fits from the general population to clean, transform, and cluster the customer data. In the last step of the project, you will interpret how the general population fits apply to the customer data.\n",
    "\n",
    "- Don't forget when loading in the customers data, that it is semicolon (`;`) delimited.\n",
    "- Apply the same feature wrangling, selection, and engineering steps to the customer demographics using the `clean_data()` function you created earlier. (You can assume that the customer demographics data has similar meaning behind missing data patterns as the general demographics data.)\n",
    "- Use the sklearn objects from the general demographics data, and apply their transformations to the customers data. That is, you should not be using a `.fit()` or `.fit_transform()` method to re-fit the old objects, nor should you be creating new sklearn objects! Carry the data through the feature scaling, PCA, and clustering steps, obtaining cluster assignments for all of the data in the customer demographics data."
   ]
  },
  {
   "cell_type": "code",
   "execution_count": 86,
   "metadata": {},
   "outputs": [],
   "source": [
    "# Load in the customer demographics data.\n",
    "cms = pd.read_csv('Udacity_CUSTOMERS_Subset.csv',sep=';')"
   ]
  },
  {
   "cell_type": "code",
   "execution_count": 87,
   "metadata": {},
   "outputs": [],
   "source": [
    "# Apply preprocessing, feature transformation, and clustering from the general\n",
    "# demographics onto the customer data, obtaining cluster predictions for the\n",
    "# customer demographics data.\n",
    "# Clean data operations\n",
    "cms_cl = clean_data(cms)"
   ]
  },
  {
   "cell_type": "code",
   "execution_count": 88,
   "metadata": {},
   "outputs": [
    {
     "name": "stdout",
     "output_type": "stream",
     "text": [
      "49 ordinal\n",
      "6 numeric\n",
      "4 categorical\n"
     ]
    }
   ],
   "source": [
    "# Check for changes\n",
    "features = list(cms_cl.columns)\n",
    "feat_info_cl = feat_info[feat_info['attribute'].isin(features)]\n",
    "tp_count = feat_info_cl['type'].value_counts()\n",
    "for i in range(len(tp_count)):\n",
    "    print('{} {}'.format(tp_count[i], tp_count.index[i]))"
   ]
  },
  {
   "cell_type": "code",
   "execution_count": 89,
   "metadata": {},
   "outputs": [],
   "source": [
    "# Replace nan values\n",
    "cms_cl_imp = pd.DataFrame(imp_miss.fit_transform(cms_cl))\n",
    "cms_cl_imp.columns = cms_cl.columns\n",
    "cms_cl_imp.index = cms_cl.index"
   ]
  },
  {
   "cell_type": "code",
   "execution_count": 93,
   "metadata": {},
   "outputs": [],
   "source": [
    "# Feature scaling\n",
    "cms_cl_scaled = scaler.transform(cms_cl_imp)\n",
    "cms_cl_scaled = pd.DataFrame(cms_cl_scaled, columns=list(cms_cl_imp))"
   ]
  },
  {
   "cell_type": "code",
   "execution_count": 94,
   "metadata": {},
   "outputs": [],
   "source": [
    "# PCA\n",
    "cms_pca = pca_26.transform(cms_cl_scaled)"
   ]
  },
  {
   "cell_type": "code",
   "execution_count": 95,
   "metadata": {},
   "outputs": [],
   "source": [
    "# Predict using Kmeans clustering\n",
    "cms_pred = kms_14.predict(cms_pca)"
   ]
  },
  {
   "cell_type": "markdown",
   "metadata": {},
   "source": [
    "### Step 3.3: Compare Customer Data to Demographics Data\n",
    "\n",
    "At this point, you have clustered data based on demographics of the general population of Germany, and seen how the customer data for a mail-order sales company maps onto those demographic clusters. In this final substep, you will compare the two cluster distributions to see where the strongest customer base for the company is.\n",
    "\n",
    "Consider the proportion of persons in each cluster for the general population, and the proportions for the customers. If we think the company's customer base to be universal, then the cluster assignment proportions should be fairly similar between the two. If there are only particular segments of the population that are interested in the company's products, then we should see a mismatch from one to the other. If there is a higher proportion of persons in a cluster for the customer data compared to the general population (e.g. 5% of persons are assigned to a cluster for the general population, but 15% of the customer data is closest to that cluster's centroid) then that suggests the people in that cluster to be a target audience for the company. On the other hand, the proportion of the data in a cluster being larger in the general population than the customer data (e.g. only 2% of customers closest to a population centroid that captures 6% of the data) suggests that group of persons to be outside of the target demographics.\n",
    "\n",
    "Take a look at the following points in this step:\n",
    "\n",
    "- Compute the proportion of data points in each cluster for the general population and the customer data. Visualizations will be useful here: both for the individual dataset proportions, but also to visualize the ratios in cluster representation between groups. Seaborn's [`countplot()`](https://seaborn.pydata.org/generated/seaborn.countplot.html) or [`barplot()`](https://seaborn.pydata.org/generated/seaborn.barplot.html) function could be handy.\n",
    "  - Recall the analysis you performed in step 1.1.3 of the project, where you separated out certain data points from the dataset if they had more than a specified threshold of missing values. If you found that this group was qualitatively different from the main bulk of the data, you should treat this as an additional data cluster in this analysis. Make sure that you account for the number of data points in this subset, for both the general population and customer datasets, when making your computations!\n",
    "- Which cluster or clusters are overrepresented in the customer dataset compared to the general population? Select at least one such cluster and infer what kind of people might be represented by that cluster. Use the principal component interpretations from step 2.3 or look at additional components to help you make this inference. Alternatively, you can use the `.inverse_transform()` method of the PCA and StandardScaler objects to transform centroids back to the original data space and interpret the retrieved values directly.\n",
    "- Perform a similar investigation for the underrepresented clusters. Which cluster or clusters are underrepresented in the customer dataset compared to the general population, and what kinds of people are typified by these clusters?"
   ]
  },
  {
   "cell_type": "code",
   "execution_count": 112,
   "metadata": {},
   "outputs": [
    {
     "data": {
      "text/plain": [
       "Text(0.5,1,'General Population Clusters')"
      ]
     },
     "execution_count": 112,
     "metadata": {},
     "output_type": "execute_result"
    },
    {
     "data": {
      "image/png": "[encoded data removed]",
      "text/plain": [
       "<matplotlib.figure.Figure at 0x7fa9408ab2b0>"
      ]
     },
     "metadata": {
      "needs_background": "light"
     },
     "output_type": "display_data"
    }
   ],
   "source": [
    "# Compare the proportion of data in each cluster for the customer data to the\n",
    "# proportion of data in each cluster for the general population.\n",
    "figure, axs = plt.subplots(nrows=1, ncols=2, figsize = (15,5))\n",
    "\n",
    "sns.countplot(cms_pred, ax=axs[0]) \n",
    "axs[0].set_title('Customer Clusters')\n",
    "sns.countplot(azdias_pred, ax=axs[1])\n",
    "axs[1].set_title('General Population Clusters')"
   ]
  },
  {
   "cell_type": "code",
   "execution_count": 146,
   "metadata": {},
   "outputs": [
    {
     "data": {
      "text/plain": [
       "MIN_GEBAEUDEJAHR         1993.037916\n",
       "KBA13_ANZAHL_PKW          690.532663\n",
       "WOHNDAUER_2008              8.459441\n",
       "SEMIO_VERT                  6.228117\n",
       "ORTSGR_KLS9                 5.314327\n",
       "SEMIO_LUST                  5.269266\n",
       "SEMIO_KULT                  4.887522\n",
       "SEMIO_SOZ                   4.879582\n",
       "FINANZ_MINIMALIST           4.858789\n",
       "SEMIO_FAM                   4.820078\n",
       "INNENSTADT                  4.643743\n",
       "FINANZ_VORSORGER            4.201228\n",
       "MOBI_REGIO                  4.123922\n",
       "SEMIO_ERL                   4.118168\n",
       "W_KEIT_KIND_HH              4.108014\n",
       "KBA05_GBZ                   4.064009\n",
       "BALLRAUM                    3.993578\n",
       "GEBAEUDETYP_RASTER          3.978724\n",
       "RETOURTYP_BK_S              3.972576\n",
       "EWDICHTE                    3.918975\n",
       "SEMIO_MAT                   3.900445\n",
       "PLZ8_GBZ                    3.884698\n",
       "SEMIO_REL                   3.727840\n",
       "PLZ8_HHZ                    3.691385\n",
       "LIFE_ST                     3.612630\n",
       "GENERATION                  3.593737\n",
       "REGIOTYP                    3.547587\n",
       "KONSUMNAEHE                 3.346636\n",
       "ALTERSKATEGORIE_GROB        3.305782\n",
       "SEMIO_DOM                   3.302460\n",
       "                            ...     \n",
       "SEMIO_KRIT                  3.080078\n",
       "ARBEIT                      3.015526\n",
       "RELAT_AB                    2.908652\n",
       "PLZ8_ANTG1                  2.775386\n",
       "KBA05_ANTG1                 2.690343\n",
       "SEMIO_RAT                   2.681228\n",
       "SEMIO_KAEM                  2.640104\n",
       "PLZ8_ANTG2                  2.560727\n",
       "HH_EINKOMMEN_SCORE          2.408171\n",
       "ANZ_PERSONEN                2.223587\n",
       "KKK                         2.188434\n",
       "FINANZ_UNAUFFAELLIGER       2.143280\n",
       "WEALTH                      2.102069\n",
       "HEALTH_TYP                  2.067368\n",
       "FINANZ_HAUSBAUER            1.881112\n",
       "ANZ_HAUSHALTE_AKTIV         1.789484\n",
       "FINANZ_SPARER               1.606552\n",
       "FINANZ_ANLEGER              1.497122\n",
       "PLZ8_ANTG3                  1.182022\n",
       "KBA05_ANTG2                 1.100305\n",
       "ANREDE_KZ                   1.056373\n",
       "GREEN_AVANTGARDE            0.989039\n",
       "PLZ8_ANTG4                  0.386159\n",
       "OST_WEST_KZ                 0.105020\n",
       "KBA05_ANTG3                 0.063125\n",
       "MOVEMENT                    0.010961\n",
       "KBA05_ANTG4                 0.009053\n",
       "SOHO_KZ                     0.008753\n",
       "ANZ_HH_TITEL                0.005648\n",
       "ANZ_TITEL                   0.000280\n",
       "Length: 63, dtype: float64"
      ]
     },
     "execution_count": 146,
     "metadata": {},
     "output_type": "execute_result"
    }
   ],
   "source": [
    "# What kinds of people are part of a cluster that is overrepresented in the\n",
    "# customer data compared to the general population?\n",
    "k_7 = scaler.inverse_transform(pca_26.inverse_transform(kms_14.cluster_centers_[7]))\n",
    "overrep = pd.Series(data = k_7, index = cms_cl.columns).sort_values(ascending=False)\n",
    "overrep"
   ]
  },
  {
   "cell_type": "code",
   "execution_count": 144,
   "metadata": {},
   "outputs": [
    {
     "data": {
      "text/plain": [
       "MIN_GEBAEUDEJAHR         1992.661897\n",
       "KBA13_ANZAHL_PKW          520.715454\n",
       "ANZ_HAUSHALTE_AKTIV        13.706445\n",
       "WOHNDAUER_2008              7.113188\n",
       "SEMIO_KULT                  6.889421\n",
       "ORTSGR_KLS9                 6.889138\n",
       "SEMIO_FAM                   6.765673\n",
       "SEMIO_SOZ                   6.703464\n",
       "SEMIO_REL                   6.338791\n",
       "SEMIO_VERT                  6.052445\n",
       "GENERATION                  5.694947\n",
       "SEMIO_PFLICHT               5.660612\n",
       "HH_EINKOMMEN_SCORE          5.483742\n",
       "EWDICHTE                    5.090559\n",
       "SEMIO_MAT                   5.059640\n",
       "REGIOTYP                    4.909393\n",
       "SEMIO_TRADV                 4.864149\n",
       "FINANZ_SPARER               4.396779\n",
       "W_KEIT_KIND_HH              4.388452\n",
       "WEALTH                      4.365226\n",
       "SEMIO_RAT                   4.107513\n",
       "FINANZ_UNAUFFAELLIGER       3.816968\n",
       "PLZ8_HHZ                    3.764958\n",
       "RELAT_AB                    3.735729\n",
       "ARBEIT                      3.687632\n",
       "FINANZ_HAUSBAUER            3.616161\n",
       "FINANZ_ANLEGER              3.596939\n",
       "INNENSTADT                  3.389398\n",
       "GEBAEUDETYP_RASTER          3.375096\n",
       "PLZ8_ANTG2                  3.337906\n",
       "                            ...     \n",
       "KKK                         2.891691\n",
       "SEMIO_DOM                   2.823182\n",
       "SEMIO_KRIT                  2.796613\n",
       "RETOURTYP_BK_S              2.743998\n",
       "PLZ8_GBZ                    2.722662\n",
       "PLZ8_ANTG3                  2.416859\n",
       "SEMIO_KAEM                  2.404459\n",
       "HEALTH_TYP                  2.319919\n",
       "KBA05_GBZ                   2.239111\n",
       "KONSUMNAEHE                 2.146391\n",
       "SEMIO_ERL                   2.130313\n",
       "FINANZ_VORSORGER            2.097495\n",
       "LIFE_ST                     1.988385\n",
       "FINANZ_MINIMALIST           1.875215\n",
       "ALTERSKATEGORIE_GROB        1.804803\n",
       "MOBI_REGIO                  1.804183\n",
       "PLZ8_ANTG1                  1.462946\n",
       "ANZ_PERSONEN                1.429895\n",
       "KBA05_ANTG2                 1.378200\n",
       "PLZ8_ANTG4                  1.265259\n",
       "KBA05_ANTG3                 1.233175\n",
       "ANREDE_KZ                   0.956341\n",
       "MOVEMENT                    0.875780\n",
       "KBA05_ANTG4                 0.531676\n",
       "KBA05_ANTG1                 0.393222\n",
       "OST_WEST_KZ                 0.296213\n",
       "GREEN_AVANTGARDE            0.124220\n",
       "ANZ_HH_TITEL                0.041141\n",
       "SOHO_KZ                     0.008155\n",
       "ANZ_TITEL                   0.000201\n",
       "Length: 63, dtype: float64"
      ]
     },
     "execution_count": 144,
     "metadata": {},
     "output_type": "execute_result"
    }
   ],
   "source": [
    "# What kinds of people are part of a cluster that is underrepresented in the\n",
    "# customer data compared to the general population?\n",
    "k_2 = scaler.inverse_transform(pca_26.inverse_transform(kms_14.cluster_centers_[2]))\n",
    "underrep = pd.Series(data = k_2, index = cms_cl.columns).sort_values(ascending=False)\n",
    "underrep"
   ]
  },
  {
   "cell_type": "markdown",
   "metadata": {},
   "source": [
    "### Discussion 3.3: Compare Customer Data to Demographics Data\n",
    "\n",
    "Based on the analysis represented by the above two plots I can infer that the mail-order sales company is particularly popular with people in clusters 7, 4 and 0, in that order. On the contrary, the company is unpopular with people in clusters 2, 3 and 11.\n",
    "\n",
    "Considering cluster 7, the company is popular with people with ages between 46 and 60 years old (ALTERSKATEGORIE_GROB = 3.3057) living in prosperous households (WEALTH = 2.1020), which is reflected in a very high estimated household net income (HH_EINKOMMEN_SCORE = 2.4081), and with low movement patterns (MOBI_REGIO = 4.1239). They are male (ANREDE_KZ = 1.0563).\n",
    "\n",
    "On the contrary, the company is unpopular with people from cluster 2 which have an estimated age of less than 30 years old (ALTERSKATEGORIE_GROB = 1.8048), live in less affluent households (WEALTH = 4.3652) and, as such, have an estimated low household net income (HH_EINKOMMEN_SCORE = 5.4837). They have very high movement patterns (MOBI_REGIO 1.8041) and they also tend to be male (ANREDE_KZ = 0.956341)."
   ]
  },
  {
   "cell_type": "markdown",
   "metadata": {},
   "source": [
    "> Congratulations on making it this far in the project! Before you finish, make sure to check through the entire notebook from top to bottom to make sure that your analysis follows a logical flow and all of your findings are documented in **Discussion** cells. Once you've checked over all of your work, you should export the notebook as an HTML document to submit for evaluation. You can do this from the menu, navigating to **File -> Download as -> HTML (.html)**. You will submit both that document and this notebook for your project submission."
   ]
  },
  {
   "cell_type": "code",
   "execution_count": null,
   "metadata": {},
   "outputs": [],
   "source": []
  }
 ],
 "metadata": {
  "kernelspec": {
   "display_name": "Python 3",
   "language": "python",
   "name": "python3"
  },
  "language_info": {
   "codemirror_mode": {
    "name": "ipython",
    "version": 3
   },
   "file_extension": ".py",
   "mimetype": "text/x-python",
   "name": "python",
   "nbconvert_exporter": "python",
   "pygments_lexer": "ipython3",
   "version": "3.6.3"
  }
 },
 "nbformat": 4,
 "nbformat_minor": 2
}
